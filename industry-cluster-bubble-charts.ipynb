{
 "cells": [
  {
   "cell_type": "code",
   "execution_count": 1,
   "metadata": {},
   "outputs": [],
   "source": [
    "%matplotlib inline\n",
    "import matplotlib\n",
    "import seaborn as sns\n",
    "sns.set()\n",
    "matplotlib.rcParams['figure.dpi'] = 144"
   ]
  },
  {
   "cell_type": "markdown",
   "metadata": {},
   "source": [
    "# Industry Cluster Bubble Charts for the State of Ohio and Adams County"
   ]
  },
  {
   "cell_type": "markdown",
   "metadata": {},
   "source": [
    "After familiarizing with the existing literature of industry cluster classification and searching the data for Adams country and the State of Ohio, I have chosen the methodology, described by Primont and Domazlicky (2008)."
   ]
  },
  {
   "cell_type": "markdown",
   "metadata": {},
   "source": [
    "I use cluster definition, provided by statsamerica (www.statsamerica.org/innovation/about.html)."
   ]
  },
  {
   "cell_type": "markdown",
   "metadata": {},
   "source": [
    "To analyze regional comparative advantages, I construct the bubble charts evaluating each cluster by means of a location quotient (LQ). \n",
    "LQ compares the fraction of the region’s employment in a particular industry cluster to the fraction of the nation’s employment in the same industry cluster. \n",
    "The location quotient for industry cluster $i$ in region $r$ could be calculated as:\n"
   ]
  },
  {
   "cell_type": "markdown",
   "metadata": {},
   "source": [
    "$LQ_{ri} ={[E_{ri} /E_{r}]/[E_{ni} /E_{n}]}$,\n"
   ]
  },
  {
   "cell_type": "markdown",
   "metadata": {},
   "source": [
    "where $E_{ri}$ is the region’s employment in industry cluster $i$, $E_r$ is total regional employment, $E_{ni}$ is\n",
    "the nation’s employment in industry cluster $i$, and $E_n$ is total national employment."
   ]
  },
  {
   "cell_type": "markdown",
   "metadata": {},
   "source": [
    "By definition, LQ should be \"centered\" around 1.\n",
    "This value indicates that the region employs the same fraction of its workforce in the industry cluster as does the nation as a whole. \n",
    "\n",
    "An LQ greater than 1 indicates that the region employs a larger fraction of its workforce in the industry cluster (less than one a smaller fraction) than does the nation. \n",
    "\n",
    "When the LQ exceeds 1, the region “specializes” in the industry cluster. \n",
    "The region has a concentration in the industry cluster."
   ]
  },
  {
   "cell_type": "markdown",
   "metadata": {},
   "source": [
    "## Finding the data at statsamerica.org"
   ]
  },
  {
   "cell_type": "markdown",
   "metadata": {},
   "source": [
    "In order to load the data one has to go to http://www.statsamerica.org/innovation/anydata/. \n",
    "\n",
    "For the section \"1. Select Data\", choose \"Emplyment and Wages\", \"Annual QCEW Jobs\", \"Major Industries/Sectors\".\n",
    "\n",
    "Then in the section \"2. Select Geography\", choose \"Ohio\" and \"State Total\" or \"Adams\" to load the data for the whole state or the requested county.\n",
    "\n",
    "Since the last year the data available is 2018, in section \"3. Select a time period\" we load data for 2014 and 2018 years for both state and county levels."
   ]
  },
  {
   "cell_type": "markdown",
   "metadata": {},
   "source": [
    "So, we have 4 xls spreadsheets for small data, which we can easily combine in a \"clean\" file to work with.\n",
    "\n",
    "We use the employment for 2018 and delete it for 2014, when combining the data.\n",
    "\n",
    "Also, since Adams County data doesn't have \"Unallocated\" sector and it has no interest for industry clustering purpose, I delete these rows for the State of Ohio.\n",
    "\n"
   ]
  },
  {
   "cell_type": "code",
   "execution_count": 40,
   "metadata": {},
   "outputs": [
    {
     "name": "stdout",
     "output_type": "stream",
     "text": [
      "                                  Description  Jobs_ohio  Ohio_LQ_2018  \\\n",
      "0  Agriculture, Forestry, Fishing and Hunting      16662          0.36   \n",
      "1                                      Mining      11859          0.48   \n",
      "2                                   Utilities      28693          0.96   \n",
      "3                                Construction     220709          0.81   \n",
      "4                               Manufacturing     698960          1.49   \n",
      "\n",
      "   Ohio_LQ_2014  Jobs_adams  Adams_LQ_2018  Adams_LQ_2014  \n",
      "0          0.33           0           0.00           0.34  \n",
      "1          0.45           0           0.00           1.40  \n",
      "2          0.92         139           4.12           4.87  \n",
      "3          0.82         264           0.86           0.50  \n",
      "4          1.46         856           1.62           1.32  \n"
     ]
    }
   ],
   "source": [
    "# Import pandas\n",
    "import pandas as pd\n",
    " \n",
    "# Read file into a DataFrame and print its head\n",
    "df = pd.read_csv('ohio_adams_2014_2018.csv', sep=',', thousands=',', header=0)\n",
    "print(df.head())"
   ]
  },
  {
   "cell_type": "markdown",
   "metadata": {},
   "source": [
    "Industry clusters bubble charts have three dimensions: LQ, percentage-point change in LQ and industry employment. "
   ]
  },
  {
   "cell_type": "markdown",
   "metadata": {},
   "source": [
    "Here we get the percentage-point change in LQ:"
   ]
  },
  {
   "cell_type": "code",
   "execution_count": 86,
   "metadata": {},
   "outputs": [],
   "source": [
    "df['Ohio_LQ_growth'] = round(100*(df['Ohio_LQ_2018']-df['Ohio_LQ_2014'])/df['Ohio_LQ_2018'], 2)\n",
    "\n",
    "df['Adams_LQ_growth'] = round(100*(df['Adams_LQ_2018']-df['Adams_LQ_2014'])/df['Adams_LQ_2018'], 2)"
   ]
  },
  {
   "cell_type": "markdown",
   "metadata": {},
   "source": [
    "Now, let's plot the State of Ohio industry cluster bubble chart.\n"
   ]
  },
  {
   "cell_type": "code",
   "execution_count": 259,
   "metadata": {},
   "outputs": [
    {
     "data": {
      "application/vnd.plotly.v1+json": {
       "config": {
        "plotlyServerURL": "https://plot.ly"
       },
       "data": [
        {
         "marker": {
          "color": [
           10,
           20,
           30,
           40,
           50,
           60,
           70,
           80,
           90,
           100,
           110,
           120,
           130,
           140,
           150,
           160,
           170,
           180,
           190
          ],
          "line": {
           "width": 2
          },
          "size": [
           129.08136968594656,
           108.89903580840374,
           169.39008235431024,
           469.7967645695317,
           836.0382766357052,
           484.5503069857659,
           750.9660445053424,
           482.2831118751723,
           289.57555145419303,
           480.3831803883229,
           253.28837320335097,
           516.4881411997762,
           375.1386410382167,
           575.6396442219733,
           658.2704611328082,
           942.4547734506946,
           286.55191501715706,
           696.4531570751906,
           397.7511785023396,
           461.81489798403
          ],
          "sizemode": "area",
          "sizeref": 0.47122738672534725
         },
         "mode": "markers",
         "name": "0        Agriculture, Forestry, Fishing and Hunting\n1                                            Mining\n2                                         Utilities\n3                                      Construction\n4                                     Manufacturing\n5                                   Wholesale Trade\n6                                      Retail Trade\n7                      Transportation & Warehousing\n8                                       Information\n9                             Finance and Insurance\n10               Real Estate and Rental and Leasing\n11              Professional, Scientific, Technical\n12          Management of Companies and Enterprises\n13                            Admin, Support, Waste\n14                             Educational Services\n15                  Health Care and Social Services\n16              Arts, Entertainment, and Recreation\n17                  Accommodation and Food Services\n18    Other Services (Except Public Administration)\n19                            Public Administration",
         "text": [
          "Industry Cluster: Agriculture, Forestry, Fishing and Hunting<br>Sector Employment: 16662<br>Location Quotient: 0.36<br>Percentage-Point Change in LQ: 8.33",
          "Industry Cluster: Mining<br>Sector Employment: 11859<br>Location Quotient: 0.48<br>Percentage-Point Change in LQ: 6.25",
          "Industry Cluster: Utilities<br>Sector Employment: 28693<br>Location Quotient: 0.96<br>Percentage-Point Change in LQ: 4.17",
          "Industry Cluster: Construction<br>Sector Employment: 220709<br>Location Quotient: 0.81<br>Percentage-Point Change in LQ: -1.23",
          "Industry Cluster: Manufacturing<br>Sector Employment: 698960<br>Location Quotient: 1.49<br>Percentage-Point Change in LQ: 2.01",
          "Industry Cluster: Wholesale Trade<br>Sector Employment: 234789<br>Location Quotient: 1.08<br>Percentage-Point Change in LQ: 2.78",
          "Industry Cluster: Retail Trade<br>Sector Employment: 563950<br>Location Quotient: 0.96<br>Percentage-Point Change in LQ: -1.04",
          "Industry Cluster: Transportation & Warehousing<br>Sector Employment: 232597<br>Location Quotient: 1.02<br>Percentage-Point Change in LQ: 0.98",
          "Industry Cluster: Information<br>Sector Employment: 83854<br>Location Quotient: 0.77<br>Percentage-Point Change in LQ: -1.3",
          "Industry Cluster: Finance and Insurance<br>Sector Employment: 230768<br>Location Quotient: 1.04<br>Percentage-Point Change in LQ: 5.77",
          "Industry Cluster: Real Estate and Rental and Leasing<br>Sector Employment: 64155<br>Location Quotient: 0.76<br>Percentage-Point Change in LQ: -1.32",
          "Industry Cluster: Professional, Scientific, Technical<br>Sector Employment: 266760<br>Location Quotient: 0.77<br>Percentage-Point Change in LQ: -2.6",
          "Industry Cluster: Management of Companies and Enterprises<br>Sector Employment: 140729<br>Location Quotient: 1.62<br>Percentage-Point Change in LQ: -4.32",
          "Industry Cluster: Admin, Support, Waste<br>Sector Employment: 331361<br>Location Quotient: 0.96<br>Percentage-Point Change in LQ: -4.17",
          "Industry Cluster: Educational Services<br>Sector Employment: 433320<br>Location Quotient: 0.93<br>Percentage-Point Change in LQ: 1.08",
          "Industry Cluster: Health Care and Social Services<br>Sector Employment: 888221<br>Location Quotient: 1.11<br>Percentage-Point Change in LQ: -0.9",
          "Industry Cluster: Arts, Entertainment, and Recreation<br>Sector Employment: 82112<br>Location Quotient: 0.81<br>Percentage-Point Change in LQ: 1.23",
          "Industry Cluster: Accommodation and Food Services<br>Sector Employment: 485047<br>Location Quotient: 0.94<br>Percentage-Point Change in LQ: 0.0",
          "Industry Cluster: Other Services (Except Public Administration)<br>Sector Employment: 158206<br>Location Quotient: 0.94<br>Percentage-Point Change in LQ: 0.0",
          "Industry Cluster: Public Administration<br>Sector Employment: 213273<br>Location Quotient: 0.78<br>Percentage-Point Change in LQ: 1.28"
         ],
         "type": "scatter",
         "x": [
          8.33,
          6.25,
          4.17,
          -1.23,
          2.01,
          2.78,
          -1.04,
          0.98,
          -1.3,
          5.77,
          -1.32,
          -2.6,
          -4.32,
          -4.17,
          1.08,
          -0.9,
          1.23,
          0,
          0,
          1.28
         ],
         "y": [
          0.36,
          0.48,
          0.96,
          0.81,
          1.49,
          1.08,
          0.96,
          1.02,
          0.77,
          1.04,
          0.76,
          0.77,
          1.62,
          0.96,
          0.93,
          1.11,
          0.81,
          0.94,
          0.94,
          0.78
         ]
        }
       ],
       "layout": {
        "annotations": [
         {
          "text": "Agriculture, Forestry, Fishing and Hunting",
          "x": 8.33,
          "y": 0.36
         },
         {
          "text": "Mining",
          "x": 6.25,
          "y": 0.48
         },
         {
          "text": "Utilities",
          "x": 4.17,
          "y": 0.96
         },
         {
          "text": "Construction",
          "x": -1.23,
          "y": 0.81
         },
         {
          "text": "Manufacturing",
          "x": 2.01,
          "y": 1.49
         },
         {
          "text": "Wholesale Trade",
          "x": 2.78,
          "y": 1.08
         },
         {
          "text": "Retail Trade",
          "x": -1.04,
          "y": 0.96
         },
         {
          "text": "Information",
          "x": -1.3,
          "y": 0.77
         },
         {
          "text": "Finance and Insurance",
          "x": 5.77,
          "y": 1.04
         },
         {
          "text": "Real Estate and Rental and Leasing",
          "x": -1.32,
          "y": 0.76
         },
         {
          "text": "Professional, Scientific, Technical",
          "x": -2.6,
          "y": 0.77
         },
         {
          "text": "Management of Companies and Enterprises",
          "x": -4.32,
          "y": 1.62
         },
         {
          "text": "Admin, Support, Waste",
          "x": -4.17,
          "y": 0.96
         },
         {
          "text": "Educational Services",
          "x": 1.08,
          "y": 0.93
         },
         {
          "text": "Arts, Entertainment, and Recreation",
          "x": 1.23,
          "y": 0.81
         },
         {
          "text": "Public Administration",
          "x": 1.28,
          "y": 0.78
         }
        ],
        "paper_bgcolor": "rgb(243, 243, 243)",
        "plot_bgcolor": "rgb(243, 243, 243)",
        "shapes": [
         {
          "type": "line",
          "x0": 0,
          "x1": 0,
          "xref": "x",
          "y0": 0,
          "y1": 1,
          "yref": "paper"
         },
         {
          "type": "line",
          "x0": 0,
          "x1": 1,
          "xref": "paper",
          "y0": 1,
          "y1": 1,
          "yref": "y"
         }
        ],
        "template": {
         "data": {
          "bar": [
           {
            "error_x": {
             "color": "#2a3f5f"
            },
            "error_y": {
             "color": "#2a3f5f"
            },
            "marker": {
             "line": {
              "color": "#E5ECF6",
              "width": 0.5
             }
            },
            "type": "bar"
           }
          ],
          "barpolar": [
           {
            "marker": {
             "line": {
              "color": "#E5ECF6",
              "width": 0.5
             }
            },
            "type": "barpolar"
           }
          ],
          "carpet": [
           {
            "aaxis": {
             "endlinecolor": "#2a3f5f",
             "gridcolor": "white",
             "linecolor": "white",
             "minorgridcolor": "white",
             "startlinecolor": "#2a3f5f"
            },
            "baxis": {
             "endlinecolor": "#2a3f5f",
             "gridcolor": "white",
             "linecolor": "white",
             "minorgridcolor": "white",
             "startlinecolor": "#2a3f5f"
            },
            "type": "carpet"
           }
          ],
          "choropleth": [
           {
            "colorbar": {
             "outlinewidth": 0,
             "ticks": ""
            },
            "type": "choropleth"
           }
          ],
          "contour": [
           {
            "colorbar": {
             "outlinewidth": 0,
             "ticks": ""
            },
            "colorscale": [
             [
              0,
              "#0d0887"
             ],
             [
              0.1111111111111111,
              "#46039f"
             ],
             [
              0.2222222222222222,
              "#7201a8"
             ],
             [
              0.3333333333333333,
              "#9c179e"
             ],
             [
              0.4444444444444444,
              "#bd3786"
             ],
             [
              0.5555555555555556,
              "#d8576b"
             ],
             [
              0.6666666666666666,
              "#ed7953"
             ],
             [
              0.7777777777777778,
              "#fb9f3a"
             ],
             [
              0.8888888888888888,
              "#fdca26"
             ],
             [
              1,
              "#f0f921"
             ]
            ],
            "type": "contour"
           }
          ],
          "contourcarpet": [
           {
            "colorbar": {
             "outlinewidth": 0,
             "ticks": ""
            },
            "type": "contourcarpet"
           }
          ],
          "heatmap": [
           {
            "colorbar": {
             "outlinewidth": 0,
             "ticks": ""
            },
            "colorscale": [
             [
              0,
              "#0d0887"
             ],
             [
              0.1111111111111111,
              "#46039f"
             ],
             [
              0.2222222222222222,
              "#7201a8"
             ],
             [
              0.3333333333333333,
              "#9c179e"
             ],
             [
              0.4444444444444444,
              "#bd3786"
             ],
             [
              0.5555555555555556,
              "#d8576b"
             ],
             [
              0.6666666666666666,
              "#ed7953"
             ],
             [
              0.7777777777777778,
              "#fb9f3a"
             ],
             [
              0.8888888888888888,
              "#fdca26"
             ],
             [
              1,
              "#f0f921"
             ]
            ],
            "type": "heatmap"
           }
          ],
          "heatmapgl": [
           {
            "colorbar": {
             "outlinewidth": 0,
             "ticks": ""
            },
            "colorscale": [
             [
              0,
              "#0d0887"
             ],
             [
              0.1111111111111111,
              "#46039f"
             ],
             [
              0.2222222222222222,
              "#7201a8"
             ],
             [
              0.3333333333333333,
              "#9c179e"
             ],
             [
              0.4444444444444444,
              "#bd3786"
             ],
             [
              0.5555555555555556,
              "#d8576b"
             ],
             [
              0.6666666666666666,
              "#ed7953"
             ],
             [
              0.7777777777777778,
              "#fb9f3a"
             ],
             [
              0.8888888888888888,
              "#fdca26"
             ],
             [
              1,
              "#f0f921"
             ]
            ],
            "type": "heatmapgl"
           }
          ],
          "histogram": [
           {
            "marker": {
             "colorbar": {
              "outlinewidth": 0,
              "ticks": ""
             }
            },
            "type": "histogram"
           }
          ],
          "histogram2d": [
           {
            "colorbar": {
             "outlinewidth": 0,
             "ticks": ""
            },
            "colorscale": [
             [
              0,
              "#0d0887"
             ],
             [
              0.1111111111111111,
              "#46039f"
             ],
             [
              0.2222222222222222,
              "#7201a8"
             ],
             [
              0.3333333333333333,
              "#9c179e"
             ],
             [
              0.4444444444444444,
              "#bd3786"
             ],
             [
              0.5555555555555556,
              "#d8576b"
             ],
             [
              0.6666666666666666,
              "#ed7953"
             ],
             [
              0.7777777777777778,
              "#fb9f3a"
             ],
             [
              0.8888888888888888,
              "#fdca26"
             ],
             [
              1,
              "#f0f921"
             ]
            ],
            "type": "histogram2d"
           }
          ],
          "histogram2dcontour": [
           {
            "colorbar": {
             "outlinewidth": 0,
             "ticks": ""
            },
            "colorscale": [
             [
              0,
              "#0d0887"
             ],
             [
              0.1111111111111111,
              "#46039f"
             ],
             [
              0.2222222222222222,
              "#7201a8"
             ],
             [
              0.3333333333333333,
              "#9c179e"
             ],
             [
              0.4444444444444444,
              "#bd3786"
             ],
             [
              0.5555555555555556,
              "#d8576b"
             ],
             [
              0.6666666666666666,
              "#ed7953"
             ],
             [
              0.7777777777777778,
              "#fb9f3a"
             ],
             [
              0.8888888888888888,
              "#fdca26"
             ],
             [
              1,
              "#f0f921"
             ]
            ],
            "type": "histogram2dcontour"
           }
          ],
          "mesh3d": [
           {
            "colorbar": {
             "outlinewidth": 0,
             "ticks": ""
            },
            "type": "mesh3d"
           }
          ],
          "parcoords": [
           {
            "line": {
             "colorbar": {
              "outlinewidth": 0,
              "ticks": ""
             }
            },
            "type": "parcoords"
           }
          ],
          "pie": [
           {
            "automargin": true,
            "type": "pie"
           }
          ],
          "scatter": [
           {
            "marker": {
             "colorbar": {
              "outlinewidth": 0,
              "ticks": ""
             }
            },
            "type": "scatter"
           }
          ],
          "scatter3d": [
           {
            "line": {
             "colorbar": {
              "outlinewidth": 0,
              "ticks": ""
             }
            },
            "marker": {
             "colorbar": {
              "outlinewidth": 0,
              "ticks": ""
             }
            },
            "type": "scatter3d"
           }
          ],
          "scattercarpet": [
           {
            "marker": {
             "colorbar": {
              "outlinewidth": 0,
              "ticks": ""
             }
            },
            "type": "scattercarpet"
           }
          ],
          "scattergeo": [
           {
            "marker": {
             "colorbar": {
              "outlinewidth": 0,
              "ticks": ""
             }
            },
            "type": "scattergeo"
           }
          ],
          "scattergl": [
           {
            "marker": {
             "colorbar": {
              "outlinewidth": 0,
              "ticks": ""
             }
            },
            "type": "scattergl"
           }
          ],
          "scattermapbox": [
           {
            "marker": {
             "colorbar": {
              "outlinewidth": 0,
              "ticks": ""
             }
            },
            "type": "scattermapbox"
           }
          ],
          "scatterpolar": [
           {
            "marker": {
             "colorbar": {
              "outlinewidth": 0,
              "ticks": ""
             }
            },
            "type": "scatterpolar"
           }
          ],
          "scatterpolargl": [
           {
            "marker": {
             "colorbar": {
              "outlinewidth": 0,
              "ticks": ""
             }
            },
            "type": "scatterpolargl"
           }
          ],
          "scatterternary": [
           {
            "marker": {
             "colorbar": {
              "outlinewidth": 0,
              "ticks": ""
             }
            },
            "type": "scatterternary"
           }
          ],
          "surface": [
           {
            "colorbar": {
             "outlinewidth": 0,
             "ticks": ""
            },
            "colorscale": [
             [
              0,
              "#0d0887"
             ],
             [
              0.1111111111111111,
              "#46039f"
             ],
             [
              0.2222222222222222,
              "#7201a8"
             ],
             [
              0.3333333333333333,
              "#9c179e"
             ],
             [
              0.4444444444444444,
              "#bd3786"
             ],
             [
              0.5555555555555556,
              "#d8576b"
             ],
             [
              0.6666666666666666,
              "#ed7953"
             ],
             [
              0.7777777777777778,
              "#fb9f3a"
             ],
             [
              0.8888888888888888,
              "#fdca26"
             ],
             [
              1,
              "#f0f921"
             ]
            ],
            "type": "surface"
           }
          ],
          "table": [
           {
            "cells": {
             "fill": {
              "color": "#EBF0F8"
             },
             "line": {
              "color": "white"
             }
            },
            "header": {
             "fill": {
              "color": "#C8D4E3"
             },
             "line": {
              "color": "white"
             }
            },
            "type": "table"
           }
          ]
         },
         "layout": {
          "annotationdefaults": {
           "arrowcolor": "#2a3f5f",
           "arrowhead": 0,
           "arrowwidth": 1
          },
          "coloraxis": {
           "colorbar": {
            "outlinewidth": 0,
            "ticks": ""
           }
          },
          "colorscale": {
           "diverging": [
            [
             0,
             "#8e0152"
            ],
            [
             0.1,
             "#c51b7d"
            ],
            [
             0.2,
             "#de77ae"
            ],
            [
             0.3,
             "#f1b6da"
            ],
            [
             0.4,
             "#fde0ef"
            ],
            [
             0.5,
             "#f7f7f7"
            ],
            [
             0.6,
             "#e6f5d0"
            ],
            [
             0.7,
             "#b8e186"
            ],
            [
             0.8,
             "#7fbc41"
            ],
            [
             0.9,
             "#4d9221"
            ],
            [
             1,
             "#276419"
            ]
           ],
           "sequential": [
            [
             0,
             "#0d0887"
            ],
            [
             0.1111111111111111,
             "#46039f"
            ],
            [
             0.2222222222222222,
             "#7201a8"
            ],
            [
             0.3333333333333333,
             "#9c179e"
            ],
            [
             0.4444444444444444,
             "#bd3786"
            ],
            [
             0.5555555555555556,
             "#d8576b"
            ],
            [
             0.6666666666666666,
             "#ed7953"
            ],
            [
             0.7777777777777778,
             "#fb9f3a"
            ],
            [
             0.8888888888888888,
             "#fdca26"
            ],
            [
             1,
             "#f0f921"
            ]
           ],
           "sequentialminus": [
            [
             0,
             "#0d0887"
            ],
            [
             0.1111111111111111,
             "#46039f"
            ],
            [
             0.2222222222222222,
             "#7201a8"
            ],
            [
             0.3333333333333333,
             "#9c179e"
            ],
            [
             0.4444444444444444,
             "#bd3786"
            ],
            [
             0.5555555555555556,
             "#d8576b"
            ],
            [
             0.6666666666666666,
             "#ed7953"
            ],
            [
             0.7777777777777778,
             "#fb9f3a"
            ],
            [
             0.8888888888888888,
             "#fdca26"
            ],
            [
             1,
             "#f0f921"
            ]
           ]
          },
          "colorway": [
           "#636efa",
           "#EF553B",
           "#00cc96",
           "#ab63fa",
           "#FFA15A",
           "#19d3f3",
           "#FF6692",
           "#B6E880",
           "#FF97FF",
           "#FECB52"
          ],
          "font": {
           "color": "#2a3f5f"
          },
          "geo": {
           "bgcolor": "white",
           "lakecolor": "white",
           "landcolor": "#E5ECF6",
           "showlakes": true,
           "showland": true,
           "subunitcolor": "white"
          },
          "hoverlabel": {
           "align": "left"
          },
          "hovermode": "closest",
          "mapbox": {
           "style": "light"
          },
          "paper_bgcolor": "white",
          "plot_bgcolor": "#E5ECF6",
          "polar": {
           "angularaxis": {
            "gridcolor": "white",
            "linecolor": "white",
            "ticks": ""
           },
           "bgcolor": "#E5ECF6",
           "radialaxis": {
            "gridcolor": "white",
            "linecolor": "white",
            "ticks": ""
           }
          },
          "scene": {
           "xaxis": {
            "backgroundcolor": "#E5ECF6",
            "gridcolor": "white",
            "gridwidth": 2,
            "linecolor": "white",
            "showbackground": true,
            "ticks": "",
            "zerolinecolor": "white"
           },
           "yaxis": {
            "backgroundcolor": "#E5ECF6",
            "gridcolor": "white",
            "gridwidth": 2,
            "linecolor": "white",
            "showbackground": true,
            "ticks": "",
            "zerolinecolor": "white"
           },
           "zaxis": {
            "backgroundcolor": "#E5ECF6",
            "gridcolor": "white",
            "gridwidth": 2,
            "linecolor": "white",
            "showbackground": true,
            "ticks": "",
            "zerolinecolor": "white"
           }
          },
          "shapedefaults": {
           "line": {
            "color": "#2a3f5f"
           }
          },
          "ternary": {
           "aaxis": {
            "gridcolor": "white",
            "linecolor": "white",
            "ticks": ""
           },
           "baxis": {
            "gridcolor": "white",
            "linecolor": "white",
            "ticks": ""
           },
           "bgcolor": "#E5ECF6",
           "caxis": {
            "gridcolor": "white",
            "linecolor": "white",
            "ticks": ""
           }
          },
          "title": {
           "x": 0.05
          },
          "xaxis": {
           "automargin": true,
           "gridcolor": "white",
           "linecolor": "white",
           "ticks": "",
           "title": {
            "standoff": 15
           },
           "zerolinecolor": "white",
           "zerolinewidth": 2
          },
          "yaxis": {
           "automargin": true,
           "gridcolor": "white",
           "linecolor": "white",
           "ticks": "",
           "title": {
            "standoff": 15
           },
           "zerolinecolor": "white",
           "zerolinewidth": 2
          }
         }
        },
        "title": {
         "text": "Industry Cluster Bubble Charts, Ohio State, 2014-2018"
        },
        "xaxis": {
         "gridcolor": "white",
         "gridwidth": 2,
         "title": {
          "text": "Percentage-Point Change in LQ, 2014-2018"
         }
        },
        "yaxis": {
         "gridcolor": "white",
         "gridwidth": 2,
         "title": {
          "text": "Location Quotient in 2018"
         }
        }
       }
      },
      "text/html": [
       "<div>\n",
       "        \n",
       "        \n",
       "            <div id=\"a25d01a7-e734-4191-95bd-6cf7b946f18a\" class=\"plotly-graph-div\" style=\"height:525px; width:100%;\"></div>\n",
       "            <script type=\"text/javascript\">\n",
       "                require([\"plotly\"], function(Plotly) {\n",
       "                    window.PLOTLYENV=window.PLOTLYENV || {};\n",
       "                    \n",
       "                if (document.getElementById(\"a25d01a7-e734-4191-95bd-6cf7b946f18a\")) {\n",
       "                    Plotly.newPlot(\n",
       "                        'a25d01a7-e734-4191-95bd-6cf7b946f18a',\n",
       "                        [{\"marker\": {\"color\": [10, 20, 30, 40, 50, 60, 70, 80, 90, 100, 110, 120, 130, 140, 150, 160, 170, 180, 190], \"line\": {\"width\": 2}, \"size\": [129.08136968594656, 108.89903580840374, 169.39008235431024, 469.7967645695317, 836.0382766357052, 484.5503069857659, 750.9660445053424, 482.2831118751723, 289.57555145419303, 480.3831803883229, 253.28837320335097, 516.4881411997762, 375.1386410382167, 575.6396442219733, 658.2704611328082, 942.4547734506946, 286.55191501715706, 696.4531570751906, 397.7511785023396, 461.81489798403], \"sizemode\": \"area\", \"sizeref\": 0.47122738672534725}, \"mode\": \"markers\", \"name\": \"0        Agriculture, Forestry, Fishing and Hunting\\n1                                            Mining\\n2                                         Utilities\\n3                                      Construction\\n4                                     Manufacturing\\n5                                   Wholesale Trade\\n6                                      Retail Trade\\n7                      Transportation & Warehousing\\n8                                       Information\\n9                             Finance and Insurance\\n10               Real Estate and Rental and Leasing\\n11              Professional, Scientific, Technical\\n12          Management of Companies and Enterprises\\n13                            Admin, Support, Waste\\n14                             Educational Services\\n15                  Health Care and Social Services\\n16              Arts, Entertainment, and Recreation\\n17                  Accommodation and Food Services\\n18    Other Services (Except Public Administration)\\n19                            Public Administration\", \"text\": [\"Industry Cluster: Agriculture, Forestry, Fishing and Hunting<br>Sector Employment: 16662<br>Location Quotient: 0.36<br>Percentage-Point Change in LQ: 8.33\", \"Industry Cluster: Mining<br>Sector Employment: 11859<br>Location Quotient: 0.48<br>Percentage-Point Change in LQ: 6.25\", \"Industry Cluster: Utilities<br>Sector Employment: 28693<br>Location Quotient: 0.96<br>Percentage-Point Change in LQ: 4.17\", \"Industry Cluster: Construction<br>Sector Employment: 220709<br>Location Quotient: 0.81<br>Percentage-Point Change in LQ: -1.23\", \"Industry Cluster: Manufacturing<br>Sector Employment: 698960<br>Location Quotient: 1.49<br>Percentage-Point Change in LQ: 2.01\", \"Industry Cluster: Wholesale Trade<br>Sector Employment: 234789<br>Location Quotient: 1.08<br>Percentage-Point Change in LQ: 2.78\", \"Industry Cluster: Retail Trade<br>Sector Employment: 563950<br>Location Quotient: 0.96<br>Percentage-Point Change in LQ: -1.04\", \"Industry Cluster: Transportation & Warehousing<br>Sector Employment: 232597<br>Location Quotient: 1.02<br>Percentage-Point Change in LQ: 0.98\", \"Industry Cluster: Information<br>Sector Employment: 83854<br>Location Quotient: 0.77<br>Percentage-Point Change in LQ: -1.3\", \"Industry Cluster: Finance and Insurance<br>Sector Employment: 230768<br>Location Quotient: 1.04<br>Percentage-Point Change in LQ: 5.77\", \"Industry Cluster: Real Estate and Rental and Leasing<br>Sector Employment: 64155<br>Location Quotient: 0.76<br>Percentage-Point Change in LQ: -1.32\", \"Industry Cluster: Professional, Scientific, Technical<br>Sector Employment: 266760<br>Location Quotient: 0.77<br>Percentage-Point Change in LQ: -2.6\", \"Industry Cluster: Management of Companies and Enterprises<br>Sector Employment: 140729<br>Location Quotient: 1.62<br>Percentage-Point Change in LQ: -4.32\", \"Industry Cluster: Admin, Support, Waste<br>Sector Employment: 331361<br>Location Quotient: 0.96<br>Percentage-Point Change in LQ: -4.17\", \"Industry Cluster: Educational Services<br>Sector Employment: 433320<br>Location Quotient: 0.93<br>Percentage-Point Change in LQ: 1.08\", \"Industry Cluster: Health Care and Social Services<br>Sector Employment: 888221<br>Location Quotient: 1.11<br>Percentage-Point Change in LQ: -0.9\", \"Industry Cluster: Arts, Entertainment, and Recreation<br>Sector Employment: 82112<br>Location Quotient: 0.81<br>Percentage-Point Change in LQ: 1.23\", \"Industry Cluster: Accommodation and Food Services<br>Sector Employment: 485047<br>Location Quotient: 0.94<br>Percentage-Point Change in LQ: 0.0\", \"Industry Cluster: Other Services (Except Public Administration)<br>Sector Employment: 158206<br>Location Quotient: 0.94<br>Percentage-Point Change in LQ: 0.0\", \"Industry Cluster: Public Administration<br>Sector Employment: 213273<br>Location Quotient: 0.78<br>Percentage-Point Change in LQ: 1.28\"], \"type\": \"scatter\", \"x\": [8.33, 6.25, 4.17, -1.23, 2.01, 2.78, -1.04, 0.98, -1.3, 5.77, -1.32, -2.6, -4.32, -4.17, 1.08, -0.9, 1.23, 0.0, 0.0, 1.28], \"y\": [0.36, 0.48, 0.96, 0.81, 1.49, 1.08, 0.96, 1.02, 0.77, 1.04, 0.76, 0.77, 1.62, 0.96, 0.93, 1.11, 0.81, 0.94, 0.94, 0.78]}],\n",
       "                        {\"annotations\": [{\"text\": \"Agriculture, Forestry, Fishing and Hunting\", \"x\": 8.33, \"y\": 0.36}, {\"text\": \"Mining\", \"x\": 6.25, \"y\": 0.48}, {\"text\": \"Utilities\", \"x\": 4.17, \"y\": 0.96}, {\"text\": \"Construction\", \"x\": -1.23, \"y\": 0.81}, {\"text\": \"Manufacturing\", \"x\": 2.01, \"y\": 1.49}, {\"text\": \"Wholesale Trade\", \"x\": 2.78, \"y\": 1.08}, {\"text\": \"Retail Trade\", \"x\": -1.04, \"y\": 0.96}, {\"text\": \"Information\", \"x\": -1.3, \"y\": 0.77}, {\"text\": \"Finance and Insurance\", \"x\": 5.77, \"y\": 1.04}, {\"text\": \"Real Estate and Rental and Leasing\", \"x\": -1.32, \"y\": 0.76}, {\"text\": \"Professional, Scientific, Technical\", \"x\": -2.6, \"y\": 0.77}, {\"text\": \"Management of Companies and Enterprises\", \"x\": -4.32, \"y\": 1.62}, {\"text\": \"Admin, Support, Waste\", \"x\": -4.17, \"y\": 0.96}, {\"text\": \"Educational Services\", \"x\": 1.08, \"y\": 0.93}, {\"text\": \"Arts, Entertainment, and Recreation\", \"x\": 1.23, \"y\": 0.81}, {\"text\": \"Public Administration\", \"x\": 1.28, \"y\": 0.78}], \"paper_bgcolor\": \"rgb(243, 243, 243)\", \"plot_bgcolor\": \"rgb(243, 243, 243)\", \"shapes\": [{\"type\": \"line\", \"x0\": 0, \"x1\": 0, \"xref\": \"x\", \"y0\": 0, \"y1\": 1, \"yref\": \"paper\"}, {\"type\": \"line\", \"x0\": 0, \"x1\": 1, \"xref\": \"paper\", \"y0\": 1, \"y1\": 1, \"yref\": \"y\"}], \"template\": {\"data\": {\"bar\": [{\"error_x\": {\"color\": \"#2a3f5f\"}, \"error_y\": {\"color\": \"#2a3f5f\"}, \"marker\": {\"line\": {\"color\": \"#E5ECF6\", \"width\": 0.5}}, \"type\": \"bar\"}], \"barpolar\": [{\"marker\": {\"line\": {\"color\": \"#E5ECF6\", \"width\": 0.5}}, \"type\": \"barpolar\"}], \"carpet\": [{\"aaxis\": {\"endlinecolor\": \"#2a3f5f\", \"gridcolor\": \"white\", \"linecolor\": \"white\", \"minorgridcolor\": \"white\", \"startlinecolor\": \"#2a3f5f\"}, \"baxis\": {\"endlinecolor\": \"#2a3f5f\", \"gridcolor\": \"white\", \"linecolor\": \"white\", \"minorgridcolor\": \"white\", \"startlinecolor\": \"#2a3f5f\"}, \"type\": \"carpet\"}], \"choropleth\": [{\"colorbar\": {\"outlinewidth\": 0, \"ticks\": \"\"}, \"type\": \"choropleth\"}], \"contour\": [{\"colorbar\": {\"outlinewidth\": 0, \"ticks\": \"\"}, \"colorscale\": [[0.0, \"#0d0887\"], [0.1111111111111111, \"#46039f\"], [0.2222222222222222, \"#7201a8\"], [0.3333333333333333, \"#9c179e\"], [0.4444444444444444, \"#bd3786\"], [0.5555555555555556, \"#d8576b\"], [0.6666666666666666, \"#ed7953\"], [0.7777777777777778, \"#fb9f3a\"], [0.8888888888888888, \"#fdca26\"], [1.0, \"#f0f921\"]], \"type\": \"contour\"}], \"contourcarpet\": [{\"colorbar\": {\"outlinewidth\": 0, \"ticks\": \"\"}, \"type\": \"contourcarpet\"}], \"heatmap\": [{\"colorbar\": {\"outlinewidth\": 0, \"ticks\": \"\"}, \"colorscale\": [[0.0, \"#0d0887\"], [0.1111111111111111, \"#46039f\"], [0.2222222222222222, \"#7201a8\"], [0.3333333333333333, \"#9c179e\"], [0.4444444444444444, \"#bd3786\"], [0.5555555555555556, \"#d8576b\"], [0.6666666666666666, \"#ed7953\"], [0.7777777777777778, \"#fb9f3a\"], [0.8888888888888888, \"#fdca26\"], [1.0, \"#f0f921\"]], \"type\": \"heatmap\"}], \"heatmapgl\": [{\"colorbar\": {\"outlinewidth\": 0, \"ticks\": \"\"}, \"colorscale\": [[0.0, \"#0d0887\"], [0.1111111111111111, \"#46039f\"], [0.2222222222222222, \"#7201a8\"], [0.3333333333333333, \"#9c179e\"], [0.4444444444444444, \"#bd3786\"], [0.5555555555555556, \"#d8576b\"], [0.6666666666666666, \"#ed7953\"], [0.7777777777777778, \"#fb9f3a\"], [0.8888888888888888, \"#fdca26\"], [1.0, \"#f0f921\"]], \"type\": \"heatmapgl\"}], \"histogram\": [{\"marker\": {\"colorbar\": {\"outlinewidth\": 0, \"ticks\": \"\"}}, \"type\": \"histogram\"}], \"histogram2d\": [{\"colorbar\": {\"outlinewidth\": 0, \"ticks\": \"\"}, \"colorscale\": [[0.0, \"#0d0887\"], [0.1111111111111111, \"#46039f\"], [0.2222222222222222, \"#7201a8\"], [0.3333333333333333, \"#9c179e\"], [0.4444444444444444, \"#bd3786\"], [0.5555555555555556, \"#d8576b\"], [0.6666666666666666, \"#ed7953\"], [0.7777777777777778, \"#fb9f3a\"], [0.8888888888888888, \"#fdca26\"], [1.0, \"#f0f921\"]], \"type\": \"histogram2d\"}], \"histogram2dcontour\": [{\"colorbar\": {\"outlinewidth\": 0, \"ticks\": \"\"}, \"colorscale\": [[0.0, \"#0d0887\"], [0.1111111111111111, \"#46039f\"], [0.2222222222222222, \"#7201a8\"], [0.3333333333333333, \"#9c179e\"], [0.4444444444444444, \"#bd3786\"], [0.5555555555555556, \"#d8576b\"], [0.6666666666666666, \"#ed7953\"], [0.7777777777777778, \"#fb9f3a\"], [0.8888888888888888, \"#fdca26\"], [1.0, \"#f0f921\"]], \"type\": \"histogram2dcontour\"}], \"mesh3d\": [{\"colorbar\": {\"outlinewidth\": 0, \"ticks\": \"\"}, \"type\": \"mesh3d\"}], \"parcoords\": [{\"line\": {\"colorbar\": {\"outlinewidth\": 0, \"ticks\": \"\"}}, \"type\": \"parcoords\"}], \"pie\": [{\"automargin\": true, \"type\": \"pie\"}], \"scatter\": [{\"marker\": {\"colorbar\": {\"outlinewidth\": 0, \"ticks\": \"\"}}, \"type\": \"scatter\"}], \"scatter3d\": [{\"line\": {\"colorbar\": {\"outlinewidth\": 0, \"ticks\": \"\"}}, \"marker\": {\"colorbar\": {\"outlinewidth\": 0, \"ticks\": \"\"}}, \"type\": \"scatter3d\"}], \"scattercarpet\": [{\"marker\": {\"colorbar\": {\"outlinewidth\": 0, \"ticks\": \"\"}}, \"type\": \"scattercarpet\"}], \"scattergeo\": [{\"marker\": {\"colorbar\": {\"outlinewidth\": 0, \"ticks\": \"\"}}, \"type\": \"scattergeo\"}], \"scattergl\": [{\"marker\": {\"colorbar\": {\"outlinewidth\": 0, \"ticks\": \"\"}}, \"type\": \"scattergl\"}], \"scattermapbox\": [{\"marker\": {\"colorbar\": {\"outlinewidth\": 0, \"ticks\": \"\"}}, \"type\": \"scattermapbox\"}], \"scatterpolar\": [{\"marker\": {\"colorbar\": {\"outlinewidth\": 0, \"ticks\": \"\"}}, \"type\": \"scatterpolar\"}], \"scatterpolargl\": [{\"marker\": {\"colorbar\": {\"outlinewidth\": 0, \"ticks\": \"\"}}, \"type\": \"scatterpolargl\"}], \"scatterternary\": [{\"marker\": {\"colorbar\": {\"outlinewidth\": 0, \"ticks\": \"\"}}, \"type\": \"scatterternary\"}], \"surface\": [{\"colorbar\": {\"outlinewidth\": 0, \"ticks\": \"\"}, \"colorscale\": [[0.0, \"#0d0887\"], [0.1111111111111111, \"#46039f\"], [0.2222222222222222, \"#7201a8\"], [0.3333333333333333, \"#9c179e\"], [0.4444444444444444, \"#bd3786\"], [0.5555555555555556, \"#d8576b\"], [0.6666666666666666, \"#ed7953\"], [0.7777777777777778, \"#fb9f3a\"], [0.8888888888888888, \"#fdca26\"], [1.0, \"#f0f921\"]], \"type\": \"surface\"}], \"table\": [{\"cells\": {\"fill\": {\"color\": \"#EBF0F8\"}, \"line\": {\"color\": \"white\"}}, \"header\": {\"fill\": {\"color\": \"#C8D4E3\"}, \"line\": {\"color\": \"white\"}}, \"type\": \"table\"}]}, \"layout\": {\"annotationdefaults\": {\"arrowcolor\": \"#2a3f5f\", \"arrowhead\": 0, \"arrowwidth\": 1}, \"coloraxis\": {\"colorbar\": {\"outlinewidth\": 0, \"ticks\": \"\"}}, \"colorscale\": {\"diverging\": [[0, \"#8e0152\"], [0.1, \"#c51b7d\"], [0.2, \"#de77ae\"], [0.3, \"#f1b6da\"], [0.4, \"#fde0ef\"], [0.5, \"#f7f7f7\"], [0.6, \"#e6f5d0\"], [0.7, \"#b8e186\"], [0.8, \"#7fbc41\"], [0.9, \"#4d9221\"], [1, \"#276419\"]], \"sequential\": [[0.0, \"#0d0887\"], [0.1111111111111111, \"#46039f\"], [0.2222222222222222, \"#7201a8\"], [0.3333333333333333, \"#9c179e\"], [0.4444444444444444, \"#bd3786\"], [0.5555555555555556, \"#d8576b\"], [0.6666666666666666, \"#ed7953\"], [0.7777777777777778, \"#fb9f3a\"], [0.8888888888888888, \"#fdca26\"], [1.0, \"#f0f921\"]], \"sequentialminus\": [[0.0, \"#0d0887\"], [0.1111111111111111, \"#46039f\"], [0.2222222222222222, \"#7201a8\"], [0.3333333333333333, \"#9c179e\"], [0.4444444444444444, \"#bd3786\"], [0.5555555555555556, \"#d8576b\"], [0.6666666666666666, \"#ed7953\"], [0.7777777777777778, \"#fb9f3a\"], [0.8888888888888888, \"#fdca26\"], [1.0, \"#f0f921\"]]}, \"colorway\": [\"#636efa\", \"#EF553B\", \"#00cc96\", \"#ab63fa\", \"#FFA15A\", \"#19d3f3\", \"#FF6692\", \"#B6E880\", \"#FF97FF\", \"#FECB52\"], \"font\": {\"color\": \"#2a3f5f\"}, \"geo\": {\"bgcolor\": \"white\", \"lakecolor\": \"white\", \"landcolor\": \"#E5ECF6\", \"showlakes\": true, \"showland\": true, \"subunitcolor\": \"white\"}, \"hoverlabel\": {\"align\": \"left\"}, \"hovermode\": \"closest\", \"mapbox\": {\"style\": \"light\"}, \"paper_bgcolor\": \"white\", \"plot_bgcolor\": \"#E5ECF6\", \"polar\": {\"angularaxis\": {\"gridcolor\": \"white\", \"linecolor\": \"white\", \"ticks\": \"\"}, \"bgcolor\": \"#E5ECF6\", \"radialaxis\": {\"gridcolor\": \"white\", \"linecolor\": \"white\", \"ticks\": \"\"}}, \"scene\": {\"xaxis\": {\"backgroundcolor\": \"#E5ECF6\", \"gridcolor\": \"white\", \"gridwidth\": 2, \"linecolor\": \"white\", \"showbackground\": true, \"ticks\": \"\", \"zerolinecolor\": \"white\"}, \"yaxis\": {\"backgroundcolor\": \"#E5ECF6\", \"gridcolor\": \"white\", \"gridwidth\": 2, \"linecolor\": \"white\", \"showbackground\": true, \"ticks\": \"\", \"zerolinecolor\": \"white\"}, \"zaxis\": {\"backgroundcolor\": \"#E5ECF6\", \"gridcolor\": \"white\", \"gridwidth\": 2, \"linecolor\": \"white\", \"showbackground\": true, \"ticks\": \"\", \"zerolinecolor\": \"white\"}}, \"shapedefaults\": {\"line\": {\"color\": \"#2a3f5f\"}}, \"ternary\": {\"aaxis\": {\"gridcolor\": \"white\", \"linecolor\": \"white\", \"ticks\": \"\"}, \"baxis\": {\"gridcolor\": \"white\", \"linecolor\": \"white\", \"ticks\": \"\"}, \"bgcolor\": \"#E5ECF6\", \"caxis\": {\"gridcolor\": \"white\", \"linecolor\": \"white\", \"ticks\": \"\"}}, \"title\": {\"x\": 0.05}, \"xaxis\": {\"automargin\": true, \"gridcolor\": \"white\", \"linecolor\": \"white\", \"ticks\": \"\", \"title\": {\"standoff\": 15}, \"zerolinecolor\": \"white\", \"zerolinewidth\": 2}, \"yaxis\": {\"automargin\": true, \"gridcolor\": \"white\", \"linecolor\": \"white\", \"ticks\": \"\", \"title\": {\"standoff\": 15}, \"zerolinecolor\": \"white\", \"zerolinewidth\": 2}}}, \"title\": {\"text\": \"Industry Cluster Bubble Charts, Ohio State, 2014-2018\"}, \"xaxis\": {\"gridcolor\": \"white\", \"gridwidth\": 2, \"title\": {\"text\": \"Percentage-Point Change in LQ, 2014-2018\"}}, \"yaxis\": {\"gridcolor\": \"white\", \"gridwidth\": 2, \"title\": {\"text\": \"Location Quotient in 2018\"}}},\n",
       "                        {\"responsive\": true}\n",
       "                    ).then(function(){\n",
       "                            \n",
       "var gd = document.getElementById('a25d01a7-e734-4191-95bd-6cf7b946f18a');\n",
       "var x = new MutationObserver(function (mutations, observer) {{\n",
       "        var display = window.getComputedStyle(gd).display;\n",
       "        if (!display || display === 'none') {{\n",
       "            console.log([gd, 'removed!']);\n",
       "            Plotly.purge(gd);\n",
       "            observer.disconnect();\n",
       "        }}\n",
       "}});\n",
       "\n",
       "// Listen for the removal of the full notebook cells\n",
       "var notebookContainer = gd.closest('#notebook-container');\n",
       "if (notebookContainer) {{\n",
       "    x.observe(notebookContainer, {childList: true});\n",
       "}}\n",
       "\n",
       "// Listen for the clearing of the current output cell\n",
       "var outputEl = gd.closest('.output');\n",
       "if (outputEl) {{\n",
       "    x.observe(outputEl, {childList: true});\n",
       "}}\n",
       "\n",
       "                        })\n",
       "                };\n",
       "                });\n",
       "            </script>\n",
       "        </div>"
      ]
     },
     "metadata": {},
     "output_type": "display_data"
    }
   ],
   "source": [
    "import plotly.graph_objects as go\n",
    "import plotly.express as px\n",
    "import math\n",
    "\n",
    "hover_text = []\n",
    "bubble_size = []\n",
    "\n",
    "for index, row in df.iterrows():\n",
    "    hover_text.append(('Industry Cluster: {Description}<br>'+\n",
    "                      'Sector Employment: {Jobs_ohio}<br>'+\n",
    "                      'Location Quotient: {Ohio_LQ_2018}<br>'+\n",
    "                      'Percentage-Point Change in LQ: {Ohio_LQ_growth}').format(Description=row['Description'],\n",
    "                                            Jobs_ohio=row['Jobs_ohio'],\n",
    "                                            Ohio_LQ_2018=row['Ohio_LQ_2018'],\n",
    "                                            Ohio_LQ_growth=row['Ohio_LQ_growth']))\n",
    "    bubble_size.append(math.sqrt(row['Jobs_ohio']))\n",
    "\n",
    "df['text_ohio'] = hover_text\n",
    "df['size_ohio'] = bubble_size\n",
    "sizeref = 5.*max(df['size_ohio'])/(100**2)\n",
    "\n",
    "# Create figure\n",
    "fig = go.Figure()\n",
    "fig.add_trace(go.Scatter(\n",
    "        x=df['Ohio_LQ_growth'], y=df['Ohio_LQ_2018'],\n",
    "        name=pd.Series.to_string(df['Description']), text=df['text_ohio'],\n",
    "        marker_size=df['size_ohio']))\n",
    "\n",
    "# Tune marker appearance and layout\n",
    "fig.update_traces(mode='markers', marker=dict(size=df['size_ohio'],\n",
    "                                              sizemode='area', \n",
    "                                              color=[*range(10, 200, 10)],\n",
    "                                              sizeref=sizeref, line_width=2,))\n",
    "for index, row in df.iterrows():\n",
    "    if math.fabs(row['Ohio_LQ_growth'])>1 or math.fabs(row['Ohio_LQ_2018']-1)>1:\n",
    "        fig.add_annotation(\n",
    "            x=row['Ohio_LQ_growth'],\n",
    "            y=row['Ohio_LQ_2018'],   \n",
    "            text=row['Description'],\n",
    "    )\n",
    "\n",
    "fig.update_layout(\n",
    "    title='Industry Cluster Bubble Charts, Ohio State, 2014-2018',\n",
    "    xaxis=dict(\n",
    "        title='Percentage-Point Change in LQ, 2014-2018',\n",
    "        gridcolor='white',\n",
    "        #type='log',\n",
    "        gridwidth=2\n",
    "    ),\n",
    "    yaxis=dict(\n",
    "        title='Location Quotient in 2018',\n",
    "        gridcolor='white',\n",
    "        gridwidth=2,\n",
    "    ),\n",
    "    paper_bgcolor='rgb(243, 243, 243)',\n",
    "    plot_bgcolor='rgb(243, 243, 243)'\n",
    ")\n",
    "\n",
    "\n",
    "fig.update_layout(shapes=[\n",
    "    dict(\n",
    "      type= 'line',\n",
    "      yref= 'paper', y0= 0, y1= 1,\n",
    "      xref= 'x', x0= 0, x1= 0\n",
    "    ),\n",
    "    dict(\n",
    "      type= 'line',\n",
    "      yref= 'y', y0= 1, y1= 1,\n",
    "      xref= 'paper', x0= 0, x1= 1\n",
    "    )\n",
    "])    \n",
    "\n",
    "\n",
    "fig.show()"
   ]
  },
  {
   "cell_type": "markdown",
   "metadata": {},
   "source": [
    "Bubbles above the horizontal axis represent clusters that employ a larger fraction of its workforce in the industry cluster than does the nation, while the bubbles below the horizontal axis represent clusters that employ a smaller fraction of its workforce than does the nation. \n",
    "\n",
    "The horizontal axis shows the percentage change in the value of the LQ from 2014 to 2018. \n",
    "Bubbles lying to the right of the vertical axis represent industry clusters that have increased their fraction of employment relative to the nation, while those to the left of the vertical axis have decreased their fraction of employment. \n",
    "The size of the bubble represents regional employment in the cluster. The larger the bubble, the larger is the industry cluster’s employment."
   ]
  },
  {
   "cell_type": "markdown",
   "metadata": {},
   "source": [
    "As it could be seen from the bubble chart above, it is pretty hard to make all information readable even using hoover text, which shows the industry cluster name and its data, when the user moves the mouse over the bubble.\n",
    "\n",
    "So, I choose categorical dot plots as an alternative data visualization techniques.\n",
    "So called Cleveland dot plots show changes between three data points for each category. \n",
    "The categories are plotted on the vertical axes for readaility purpose.\n",
    "Compared to a bubble chart, dot plots are less cluttered and allow for an easier comparison between conditions."
   ]
  },
  {
   "cell_type": "code",
   "execution_count": 258,
   "metadata": {},
   "outputs": [
    {
     "data": {
      "application/vnd.plotly.v1+json": {
       "config": {
        "plotlyServerURL": "https://plot.ly"
       },
       "data": [
        {
         "marker": {
          "color": "rgba(156, 165, 196, 0.95)",
          "line": {
           "color": "rgba(156, 165, 196, 1.0)",
           "width": 1
          },
          "size": 16,
          "symbol": "circle"
         },
         "mode": "markers",
         "name": "Location Quotient in 2018",
         "type": "scatter",
         "x": [
          0.36,
          0.48,
          0.96,
          0.81,
          1.49,
          1.08,
          0.96,
          1.02,
          0.77,
          1.04,
          0.76,
          0.77,
          1.62,
          0.96,
          0.93,
          1.11,
          0.81,
          0.94,
          0.94,
          0.78
         ],
         "y": [
          "Agriculture, Forestry, Fishing and Hunting",
          "Mining",
          "Utilities",
          "Construction",
          "Manufacturing",
          "Wholesale Trade",
          "Retail Trade",
          "Transportation & Warehousing",
          "Information",
          "Finance and Insurance",
          "Real Estate and Rental and Leasing",
          "Professional, Scientific, Technical",
          "Management of Companies and Enterprises",
          "Admin, Support, Waste",
          "Educational Services",
          "Health Care and Social Services",
          "Arts, Entertainment, and Recreation",
          "Accommodation and Food Services",
          "Other Services (Except Public Administration)",
          "Public Administration"
         ]
        },
        {
         "marker": {
          "color": "rgba(204, 204, 204, 0.95)",
          "line": {
           "color": "rgba(217, 217, 217, 1.0)",
           "width": 1
          },
          "size": 16,
          "symbol": "circle"
         },
         "mode": "markers",
         "name": "Percentage-Point Change in LQ, 2014-2018",
         "type": "scatter",
         "x": [
          8.33,
          6.25,
          4.17,
          -1.23,
          2.01,
          2.78,
          -1.04,
          0.98,
          -1.3,
          5.77,
          -1.32,
          -2.6,
          -4.32,
          -4.17,
          1.08,
          -0.9,
          1.23,
          0,
          0,
          1.28
         ],
         "y": [
          "Agriculture, Forestry, Fishing and Hunting",
          "Mining",
          "Utilities",
          "Construction",
          "Manufacturing",
          "Wholesale Trade",
          "Retail Trade",
          "Transportation & Warehousing",
          "Information",
          "Finance and Insurance",
          "Real Estate and Rental and Leasing",
          "Professional, Scientific, Technical",
          "Management of Companies and Enterprises",
          "Admin, Support, Waste",
          "Educational Services",
          "Health Care and Social Services",
          "Arts, Entertainment, and Recreation",
          "Accommodation and Food Services",
          "Other Services (Except Public Administration)",
          "Public Administration"
         ]
        },
        {
         "marker": {
          "color": "rgba(144, 244, 244, 0.9)",
          "line": {
           "color": "rgba(217, 217, 217, 1.0)",
           "width": 1
          },
          "size": 16,
          "symbol": "circle"
         },
         "mode": "markers",
         "name": "Sector Employment in 2018, *100k",
         "type": "scatter",
         "x": [
          0.16662,
          0.11859,
          0.28693,
          2.20709,
          6.9896,
          2.34789,
          5.6395,
          2.32597,
          0.83854,
          2.30768,
          0.64155,
          2.6676,
          1.40729,
          3.31361,
          4.3332,
          8.88221,
          0.82112,
          4.85047,
          1.58206,
          2.13273
         ],
         "y": [
          "Agriculture, Forestry, Fishing and Hunting",
          "Mining",
          "Utilities",
          "Construction",
          "Manufacturing",
          "Wholesale Trade",
          "Retail Trade",
          "Transportation & Warehousing",
          "Information",
          "Finance and Insurance",
          "Real Estate and Rental and Leasing",
          "Professional, Scientific, Technical",
          "Management of Companies and Enterprises",
          "Admin, Support, Waste",
          "Educational Services",
          "Health Care and Social Services",
          "Arts, Entertainment, and Recreation",
          "Accommodation and Food Services",
          "Other Services (Except Public Administration)",
          "Public Administration"
         ]
        }
       ],
       "layout": {
        "height": 600,
        "hovermode": "closest",
        "legend": {
         "font": {
          "size": 10
         },
         "xanchor": "right",
         "yanchor": "middle"
        },
        "margin": {
         "b": 50,
         "l": 140,
         "r": 40,
         "t": 80
        },
        "paper_bgcolor": "white",
        "plot_bgcolor": "white",
        "template": {
         "data": {
          "bar": [
           {
            "error_x": {
             "color": "#2a3f5f"
            },
            "error_y": {
             "color": "#2a3f5f"
            },
            "marker": {
             "line": {
              "color": "#E5ECF6",
              "width": 0.5
             }
            },
            "type": "bar"
           }
          ],
          "barpolar": [
           {
            "marker": {
             "line": {
              "color": "#E5ECF6",
              "width": 0.5
             }
            },
            "type": "barpolar"
           }
          ],
          "carpet": [
           {
            "aaxis": {
             "endlinecolor": "#2a3f5f",
             "gridcolor": "white",
             "linecolor": "white",
             "minorgridcolor": "white",
             "startlinecolor": "#2a3f5f"
            },
            "baxis": {
             "endlinecolor": "#2a3f5f",
             "gridcolor": "white",
             "linecolor": "white",
             "minorgridcolor": "white",
             "startlinecolor": "#2a3f5f"
            },
            "type": "carpet"
           }
          ],
          "choropleth": [
           {
            "colorbar": {
             "outlinewidth": 0,
             "ticks": ""
            },
            "type": "choropleth"
           }
          ],
          "contour": [
           {
            "colorbar": {
             "outlinewidth": 0,
             "ticks": ""
            },
            "colorscale": [
             [
              0,
              "#0d0887"
             ],
             [
              0.1111111111111111,
              "#46039f"
             ],
             [
              0.2222222222222222,
              "#7201a8"
             ],
             [
              0.3333333333333333,
              "#9c179e"
             ],
             [
              0.4444444444444444,
              "#bd3786"
             ],
             [
              0.5555555555555556,
              "#d8576b"
             ],
             [
              0.6666666666666666,
              "#ed7953"
             ],
             [
              0.7777777777777778,
              "#fb9f3a"
             ],
             [
              0.8888888888888888,
              "#fdca26"
             ],
             [
              1,
              "#f0f921"
             ]
            ],
            "type": "contour"
           }
          ],
          "contourcarpet": [
           {
            "colorbar": {
             "outlinewidth": 0,
             "ticks": ""
            },
            "type": "contourcarpet"
           }
          ],
          "heatmap": [
           {
            "colorbar": {
             "outlinewidth": 0,
             "ticks": ""
            },
            "colorscale": [
             [
              0,
              "#0d0887"
             ],
             [
              0.1111111111111111,
              "#46039f"
             ],
             [
              0.2222222222222222,
              "#7201a8"
             ],
             [
              0.3333333333333333,
              "#9c179e"
             ],
             [
              0.4444444444444444,
              "#bd3786"
             ],
             [
              0.5555555555555556,
              "#d8576b"
             ],
             [
              0.6666666666666666,
              "#ed7953"
             ],
             [
              0.7777777777777778,
              "#fb9f3a"
             ],
             [
              0.8888888888888888,
              "#fdca26"
             ],
             [
              1,
              "#f0f921"
             ]
            ],
            "type": "heatmap"
           }
          ],
          "heatmapgl": [
           {
            "colorbar": {
             "outlinewidth": 0,
             "ticks": ""
            },
            "colorscale": [
             [
              0,
              "#0d0887"
             ],
             [
              0.1111111111111111,
              "#46039f"
             ],
             [
              0.2222222222222222,
              "#7201a8"
             ],
             [
              0.3333333333333333,
              "#9c179e"
             ],
             [
              0.4444444444444444,
              "#bd3786"
             ],
             [
              0.5555555555555556,
              "#d8576b"
             ],
             [
              0.6666666666666666,
              "#ed7953"
             ],
             [
              0.7777777777777778,
              "#fb9f3a"
             ],
             [
              0.8888888888888888,
              "#fdca26"
             ],
             [
              1,
              "#f0f921"
             ]
            ],
            "type": "heatmapgl"
           }
          ],
          "histogram": [
           {
            "marker": {
             "colorbar": {
              "outlinewidth": 0,
              "ticks": ""
             }
            },
            "type": "histogram"
           }
          ],
          "histogram2d": [
           {
            "colorbar": {
             "outlinewidth": 0,
             "ticks": ""
            },
            "colorscale": [
             [
              0,
              "#0d0887"
             ],
             [
              0.1111111111111111,
              "#46039f"
             ],
             [
              0.2222222222222222,
              "#7201a8"
             ],
             [
              0.3333333333333333,
              "#9c179e"
             ],
             [
              0.4444444444444444,
              "#bd3786"
             ],
             [
              0.5555555555555556,
              "#d8576b"
             ],
             [
              0.6666666666666666,
              "#ed7953"
             ],
             [
              0.7777777777777778,
              "#fb9f3a"
             ],
             [
              0.8888888888888888,
              "#fdca26"
             ],
             [
              1,
              "#f0f921"
             ]
            ],
            "type": "histogram2d"
           }
          ],
          "histogram2dcontour": [
           {
            "colorbar": {
             "outlinewidth": 0,
             "ticks": ""
            },
            "colorscale": [
             [
              0,
              "#0d0887"
             ],
             [
              0.1111111111111111,
              "#46039f"
             ],
             [
              0.2222222222222222,
              "#7201a8"
             ],
             [
              0.3333333333333333,
              "#9c179e"
             ],
             [
              0.4444444444444444,
              "#bd3786"
             ],
             [
              0.5555555555555556,
              "#d8576b"
             ],
             [
              0.6666666666666666,
              "#ed7953"
             ],
             [
              0.7777777777777778,
              "#fb9f3a"
             ],
             [
              0.8888888888888888,
              "#fdca26"
             ],
             [
              1,
              "#f0f921"
             ]
            ],
            "type": "histogram2dcontour"
           }
          ],
          "mesh3d": [
           {
            "colorbar": {
             "outlinewidth": 0,
             "ticks": ""
            },
            "type": "mesh3d"
           }
          ],
          "parcoords": [
           {
            "line": {
             "colorbar": {
              "outlinewidth": 0,
              "ticks": ""
             }
            },
            "type": "parcoords"
           }
          ],
          "pie": [
           {
            "automargin": true,
            "type": "pie"
           }
          ],
          "scatter": [
           {
            "marker": {
             "colorbar": {
              "outlinewidth": 0,
              "ticks": ""
             }
            },
            "type": "scatter"
           }
          ],
          "scatter3d": [
           {
            "line": {
             "colorbar": {
              "outlinewidth": 0,
              "ticks": ""
             }
            },
            "marker": {
             "colorbar": {
              "outlinewidth": 0,
              "ticks": ""
             }
            },
            "type": "scatter3d"
           }
          ],
          "scattercarpet": [
           {
            "marker": {
             "colorbar": {
              "outlinewidth": 0,
              "ticks": ""
             }
            },
            "type": "scattercarpet"
           }
          ],
          "scattergeo": [
           {
            "marker": {
             "colorbar": {
              "outlinewidth": 0,
              "ticks": ""
             }
            },
            "type": "scattergeo"
           }
          ],
          "scattergl": [
           {
            "marker": {
             "colorbar": {
              "outlinewidth": 0,
              "ticks": ""
             }
            },
            "type": "scattergl"
           }
          ],
          "scattermapbox": [
           {
            "marker": {
             "colorbar": {
              "outlinewidth": 0,
              "ticks": ""
             }
            },
            "type": "scattermapbox"
           }
          ],
          "scatterpolar": [
           {
            "marker": {
             "colorbar": {
              "outlinewidth": 0,
              "ticks": ""
             }
            },
            "type": "scatterpolar"
           }
          ],
          "scatterpolargl": [
           {
            "marker": {
             "colorbar": {
              "outlinewidth": 0,
              "ticks": ""
             }
            },
            "type": "scatterpolargl"
           }
          ],
          "scatterternary": [
           {
            "marker": {
             "colorbar": {
              "outlinewidth": 0,
              "ticks": ""
             }
            },
            "type": "scatterternary"
           }
          ],
          "surface": [
           {
            "colorbar": {
             "outlinewidth": 0,
             "ticks": ""
            },
            "colorscale": [
             [
              0,
              "#0d0887"
             ],
             [
              0.1111111111111111,
              "#46039f"
             ],
             [
              0.2222222222222222,
              "#7201a8"
             ],
             [
              0.3333333333333333,
              "#9c179e"
             ],
             [
              0.4444444444444444,
              "#bd3786"
             ],
             [
              0.5555555555555556,
              "#d8576b"
             ],
             [
              0.6666666666666666,
              "#ed7953"
             ],
             [
              0.7777777777777778,
              "#fb9f3a"
             ],
             [
              0.8888888888888888,
              "#fdca26"
             ],
             [
              1,
              "#f0f921"
             ]
            ],
            "type": "surface"
           }
          ],
          "table": [
           {
            "cells": {
             "fill": {
              "color": "#EBF0F8"
             },
             "line": {
              "color": "white"
             }
            },
            "header": {
             "fill": {
              "color": "#C8D4E3"
             },
             "line": {
              "color": "white"
             }
            },
            "type": "table"
           }
          ]
         },
         "layout": {
          "annotationdefaults": {
           "arrowcolor": "#2a3f5f",
           "arrowhead": 0,
           "arrowwidth": 1
          },
          "coloraxis": {
           "colorbar": {
            "outlinewidth": 0,
            "ticks": ""
           }
          },
          "colorscale": {
           "diverging": [
            [
             0,
             "#8e0152"
            ],
            [
             0.1,
             "#c51b7d"
            ],
            [
             0.2,
             "#de77ae"
            ],
            [
             0.3,
             "#f1b6da"
            ],
            [
             0.4,
             "#fde0ef"
            ],
            [
             0.5,
             "#f7f7f7"
            ],
            [
             0.6,
             "#e6f5d0"
            ],
            [
             0.7,
             "#b8e186"
            ],
            [
             0.8,
             "#7fbc41"
            ],
            [
             0.9,
             "#4d9221"
            ],
            [
             1,
             "#276419"
            ]
           ],
           "sequential": [
            [
             0,
             "#0d0887"
            ],
            [
             0.1111111111111111,
             "#46039f"
            ],
            [
             0.2222222222222222,
             "#7201a8"
            ],
            [
             0.3333333333333333,
             "#9c179e"
            ],
            [
             0.4444444444444444,
             "#bd3786"
            ],
            [
             0.5555555555555556,
             "#d8576b"
            ],
            [
             0.6666666666666666,
             "#ed7953"
            ],
            [
             0.7777777777777778,
             "#fb9f3a"
            ],
            [
             0.8888888888888888,
             "#fdca26"
            ],
            [
             1,
             "#f0f921"
            ]
           ],
           "sequentialminus": [
            [
             0,
             "#0d0887"
            ],
            [
             0.1111111111111111,
             "#46039f"
            ],
            [
             0.2222222222222222,
             "#7201a8"
            ],
            [
             0.3333333333333333,
             "#9c179e"
            ],
            [
             0.4444444444444444,
             "#bd3786"
            ],
            [
             0.5555555555555556,
             "#d8576b"
            ],
            [
             0.6666666666666666,
             "#ed7953"
            ],
            [
             0.7777777777777778,
             "#fb9f3a"
            ],
            [
             0.8888888888888888,
             "#fdca26"
            ],
            [
             1,
             "#f0f921"
            ]
           ]
          },
          "colorway": [
           "#636efa",
           "#EF553B",
           "#00cc96",
           "#ab63fa",
           "#FFA15A",
           "#19d3f3",
           "#FF6692",
           "#B6E880",
           "#FF97FF",
           "#FECB52"
          ],
          "font": {
           "color": "#2a3f5f"
          },
          "geo": {
           "bgcolor": "white",
           "lakecolor": "white",
           "landcolor": "#E5ECF6",
           "showlakes": true,
           "showland": true,
           "subunitcolor": "white"
          },
          "hoverlabel": {
           "align": "left"
          },
          "hovermode": "closest",
          "mapbox": {
           "style": "light"
          },
          "paper_bgcolor": "white",
          "plot_bgcolor": "#E5ECF6",
          "polar": {
           "angularaxis": {
            "gridcolor": "white",
            "linecolor": "white",
            "ticks": ""
           },
           "bgcolor": "#E5ECF6",
           "radialaxis": {
            "gridcolor": "white",
            "linecolor": "white",
            "ticks": ""
           }
          },
          "scene": {
           "xaxis": {
            "backgroundcolor": "#E5ECF6",
            "gridcolor": "white",
            "gridwidth": 2,
            "linecolor": "white",
            "showbackground": true,
            "ticks": "",
            "zerolinecolor": "white"
           },
           "yaxis": {
            "backgroundcolor": "#E5ECF6",
            "gridcolor": "white",
            "gridwidth": 2,
            "linecolor": "white",
            "showbackground": true,
            "ticks": "",
            "zerolinecolor": "white"
           },
           "zaxis": {
            "backgroundcolor": "#E5ECF6",
            "gridcolor": "white",
            "gridwidth": 2,
            "linecolor": "white",
            "showbackground": true,
            "ticks": "",
            "zerolinecolor": "white"
           }
          },
          "shapedefaults": {
           "line": {
            "color": "#2a3f5f"
           }
          },
          "ternary": {
           "aaxis": {
            "gridcolor": "white",
            "linecolor": "white",
            "ticks": ""
           },
           "baxis": {
            "gridcolor": "white",
            "linecolor": "white",
            "ticks": ""
           },
           "bgcolor": "#E5ECF6",
           "caxis": {
            "gridcolor": "white",
            "linecolor": "white",
            "ticks": ""
           }
          },
          "title": {
           "x": 0.05
          },
          "xaxis": {
           "automargin": true,
           "gridcolor": "white",
           "linecolor": "white",
           "ticks": "",
           "title": {
            "standoff": 15
           },
           "zerolinecolor": "white",
           "zerolinewidth": 2
          },
          "yaxis": {
           "automargin": true,
           "gridcolor": "white",
           "linecolor": "white",
           "ticks": "",
           "title": {
            "standoff": 15
           },
           "zerolinecolor": "white",
           "zerolinewidth": 2
          }
         }
        },
        "title": {
         "text": "Industry Cluster Categorical Dot Plot, Ohio State, 2014-2018"
        },
        "width": 800,
        "xaxis": {
         "dtick": 1,
         "linecolor": "rgb(102, 102, 102)",
         "showgrid": true,
         "showline": true,
         "showticklabels": true,
         "tickcolor": "rgb(102, 102, 102)",
         "tickfont": {
          "color": "rgb(102, 102, 102)"
         },
         "ticks": "outside"
        }
       }
      },
      "text/html": [
       "<div>\n",
       "        \n",
       "        \n",
       "            <div id=\"19d8c05e-1ca4-4912-8a97-cf2325cb86bc\" class=\"plotly-graph-div\" style=\"height:600px; width:800px;\"></div>\n",
       "            <script type=\"text/javascript\">\n",
       "                require([\"plotly\"], function(Plotly) {\n",
       "                    window.PLOTLYENV=window.PLOTLYENV || {};\n",
       "                    \n",
       "                if (document.getElementById(\"19d8c05e-1ca4-4912-8a97-cf2325cb86bc\")) {\n",
       "                    Plotly.newPlot(\n",
       "                        '19d8c05e-1ca4-4912-8a97-cf2325cb86bc',\n",
       "                        [{\"marker\": {\"color\": \"rgba(156, 165, 196, 0.95)\", \"line\": {\"color\": \"rgba(156, 165, 196, 1.0)\", \"width\": 1}, \"size\": 16, \"symbol\": \"circle\"}, \"mode\": \"markers\", \"name\": \"Location Quotient in 2018\", \"type\": \"scatter\", \"x\": [0.36, 0.48, 0.96, 0.81, 1.49, 1.08, 0.96, 1.02, 0.77, 1.04, 0.76, 0.77, 1.62, 0.96, 0.93, 1.11, 0.81, 0.94, 0.94, 0.78], \"y\": [\"Agriculture, Forestry, Fishing and Hunting\", \"Mining\", \"Utilities\", \"Construction\", \"Manufacturing\", \"Wholesale Trade\", \"Retail Trade\", \"Transportation & Warehousing\", \"Information\", \"Finance and Insurance\", \"Real Estate and Rental and Leasing\", \"Professional, Scientific, Technical\", \"Management of Companies and Enterprises\", \"Admin, Support, Waste\", \"Educational Services\", \"Health Care and Social Services\", \"Arts, Entertainment, and Recreation\", \"Accommodation and Food Services\", \"Other Services (Except Public Administration)\", \"Public Administration\"]}, {\"marker\": {\"color\": \"rgba(204, 204, 204, 0.95)\", \"line\": {\"color\": \"rgba(217, 217, 217, 1.0)\", \"width\": 1}, \"size\": 16, \"symbol\": \"circle\"}, \"mode\": \"markers\", \"name\": \"Percentage-Point Change in LQ, 2014-2018\", \"type\": \"scatter\", \"x\": [8.33, 6.25, 4.17, -1.23, 2.01, 2.78, -1.04, 0.98, -1.3, 5.77, -1.32, -2.6, -4.32, -4.17, 1.08, -0.9, 1.23, 0.0, 0.0, 1.28], \"y\": [\"Agriculture, Forestry, Fishing and Hunting\", \"Mining\", \"Utilities\", \"Construction\", \"Manufacturing\", \"Wholesale Trade\", \"Retail Trade\", \"Transportation & Warehousing\", \"Information\", \"Finance and Insurance\", \"Real Estate and Rental and Leasing\", \"Professional, Scientific, Technical\", \"Management of Companies and Enterprises\", \"Admin, Support, Waste\", \"Educational Services\", \"Health Care and Social Services\", \"Arts, Entertainment, and Recreation\", \"Accommodation and Food Services\", \"Other Services (Except Public Administration)\", \"Public Administration\"]}, {\"marker\": {\"color\": \"rgba(144, 244, 244, 0.9)\", \"line\": {\"color\": \"rgba(217, 217, 217, 1.0)\", \"width\": 1}, \"size\": 16, \"symbol\": \"circle\"}, \"mode\": \"markers\", \"name\": \"Sector Employment in 2018, *100k\", \"type\": \"scatter\", \"x\": [0.16662, 0.11859, 0.28693, 2.20709, 6.9896, 2.34789, 5.6395, 2.32597, 0.83854, 2.30768, 0.64155, 2.6676, 1.40729, 3.31361, 4.3332, 8.88221, 0.82112, 4.85047, 1.58206, 2.13273], \"y\": [\"Agriculture, Forestry, Fishing and Hunting\", \"Mining\", \"Utilities\", \"Construction\", \"Manufacturing\", \"Wholesale Trade\", \"Retail Trade\", \"Transportation & Warehousing\", \"Information\", \"Finance and Insurance\", \"Real Estate and Rental and Leasing\", \"Professional, Scientific, Technical\", \"Management of Companies and Enterprises\", \"Admin, Support, Waste\", \"Educational Services\", \"Health Care and Social Services\", \"Arts, Entertainment, and Recreation\", \"Accommodation and Food Services\", \"Other Services (Except Public Administration)\", \"Public Administration\"]}],\n",
       "                        {\"height\": 600, \"hovermode\": \"closest\", \"legend\": {\"font\": {\"size\": 10}, \"xanchor\": \"right\", \"yanchor\": \"middle\"}, \"margin\": {\"b\": 50, \"l\": 140, \"r\": 40, \"t\": 80}, \"paper_bgcolor\": \"white\", \"plot_bgcolor\": \"white\", \"template\": {\"data\": {\"bar\": [{\"error_x\": {\"color\": \"#2a3f5f\"}, \"error_y\": {\"color\": \"#2a3f5f\"}, \"marker\": {\"line\": {\"color\": \"#E5ECF6\", \"width\": 0.5}}, \"type\": \"bar\"}], \"barpolar\": [{\"marker\": {\"line\": {\"color\": \"#E5ECF6\", \"width\": 0.5}}, \"type\": \"barpolar\"}], \"carpet\": [{\"aaxis\": {\"endlinecolor\": \"#2a3f5f\", \"gridcolor\": \"white\", \"linecolor\": \"white\", \"minorgridcolor\": \"white\", \"startlinecolor\": \"#2a3f5f\"}, \"baxis\": {\"endlinecolor\": \"#2a3f5f\", \"gridcolor\": \"white\", \"linecolor\": \"white\", \"minorgridcolor\": \"white\", \"startlinecolor\": \"#2a3f5f\"}, \"type\": \"carpet\"}], \"choropleth\": [{\"colorbar\": {\"outlinewidth\": 0, \"ticks\": \"\"}, \"type\": \"choropleth\"}], \"contour\": [{\"colorbar\": {\"outlinewidth\": 0, \"ticks\": \"\"}, \"colorscale\": [[0.0, \"#0d0887\"], [0.1111111111111111, \"#46039f\"], [0.2222222222222222, \"#7201a8\"], [0.3333333333333333, \"#9c179e\"], [0.4444444444444444, \"#bd3786\"], [0.5555555555555556, \"#d8576b\"], [0.6666666666666666, \"#ed7953\"], [0.7777777777777778, \"#fb9f3a\"], [0.8888888888888888, \"#fdca26\"], [1.0, \"#f0f921\"]], \"type\": \"contour\"}], \"contourcarpet\": [{\"colorbar\": {\"outlinewidth\": 0, \"ticks\": \"\"}, \"type\": \"contourcarpet\"}], \"heatmap\": [{\"colorbar\": {\"outlinewidth\": 0, \"ticks\": \"\"}, \"colorscale\": [[0.0, \"#0d0887\"], [0.1111111111111111, \"#46039f\"], [0.2222222222222222, \"#7201a8\"], [0.3333333333333333, \"#9c179e\"], [0.4444444444444444, \"#bd3786\"], [0.5555555555555556, \"#d8576b\"], [0.6666666666666666, \"#ed7953\"], [0.7777777777777778, \"#fb9f3a\"], [0.8888888888888888, \"#fdca26\"], [1.0, \"#f0f921\"]], \"type\": \"heatmap\"}], \"heatmapgl\": [{\"colorbar\": {\"outlinewidth\": 0, \"ticks\": \"\"}, \"colorscale\": [[0.0, \"#0d0887\"], [0.1111111111111111, \"#46039f\"], [0.2222222222222222, \"#7201a8\"], [0.3333333333333333, \"#9c179e\"], [0.4444444444444444, \"#bd3786\"], [0.5555555555555556, \"#d8576b\"], [0.6666666666666666, \"#ed7953\"], [0.7777777777777778, \"#fb9f3a\"], [0.8888888888888888, \"#fdca26\"], [1.0, \"#f0f921\"]], \"type\": \"heatmapgl\"}], \"histogram\": [{\"marker\": {\"colorbar\": {\"outlinewidth\": 0, \"ticks\": \"\"}}, \"type\": \"histogram\"}], \"histogram2d\": [{\"colorbar\": {\"outlinewidth\": 0, \"ticks\": \"\"}, \"colorscale\": [[0.0, \"#0d0887\"], [0.1111111111111111, \"#46039f\"], [0.2222222222222222, \"#7201a8\"], [0.3333333333333333, \"#9c179e\"], [0.4444444444444444, \"#bd3786\"], [0.5555555555555556, \"#d8576b\"], [0.6666666666666666, \"#ed7953\"], [0.7777777777777778, \"#fb9f3a\"], [0.8888888888888888, \"#fdca26\"], [1.0, \"#f0f921\"]], \"type\": \"histogram2d\"}], \"histogram2dcontour\": [{\"colorbar\": {\"outlinewidth\": 0, \"ticks\": \"\"}, \"colorscale\": [[0.0, \"#0d0887\"], [0.1111111111111111, \"#46039f\"], [0.2222222222222222, \"#7201a8\"], [0.3333333333333333, \"#9c179e\"], [0.4444444444444444, \"#bd3786\"], [0.5555555555555556, \"#d8576b\"], [0.6666666666666666, \"#ed7953\"], [0.7777777777777778, \"#fb9f3a\"], [0.8888888888888888, \"#fdca26\"], [1.0, \"#f0f921\"]], \"type\": \"histogram2dcontour\"}], \"mesh3d\": [{\"colorbar\": {\"outlinewidth\": 0, \"ticks\": \"\"}, \"type\": \"mesh3d\"}], \"parcoords\": [{\"line\": {\"colorbar\": {\"outlinewidth\": 0, \"ticks\": \"\"}}, \"type\": \"parcoords\"}], \"pie\": [{\"automargin\": true, \"type\": \"pie\"}], \"scatter\": [{\"marker\": {\"colorbar\": {\"outlinewidth\": 0, \"ticks\": \"\"}}, \"type\": \"scatter\"}], \"scatter3d\": [{\"line\": {\"colorbar\": {\"outlinewidth\": 0, \"ticks\": \"\"}}, \"marker\": {\"colorbar\": {\"outlinewidth\": 0, \"ticks\": \"\"}}, \"type\": \"scatter3d\"}], \"scattercarpet\": [{\"marker\": {\"colorbar\": {\"outlinewidth\": 0, \"ticks\": \"\"}}, \"type\": \"scattercarpet\"}], \"scattergeo\": [{\"marker\": {\"colorbar\": {\"outlinewidth\": 0, \"ticks\": \"\"}}, \"type\": \"scattergeo\"}], \"scattergl\": [{\"marker\": {\"colorbar\": {\"outlinewidth\": 0, \"ticks\": \"\"}}, \"type\": \"scattergl\"}], \"scattermapbox\": [{\"marker\": {\"colorbar\": {\"outlinewidth\": 0, \"ticks\": \"\"}}, \"type\": \"scattermapbox\"}], \"scatterpolar\": [{\"marker\": {\"colorbar\": {\"outlinewidth\": 0, \"ticks\": \"\"}}, \"type\": \"scatterpolar\"}], \"scatterpolargl\": [{\"marker\": {\"colorbar\": {\"outlinewidth\": 0, \"ticks\": \"\"}}, \"type\": \"scatterpolargl\"}], \"scatterternary\": [{\"marker\": {\"colorbar\": {\"outlinewidth\": 0, \"ticks\": \"\"}}, \"type\": \"scatterternary\"}], \"surface\": [{\"colorbar\": {\"outlinewidth\": 0, \"ticks\": \"\"}, \"colorscale\": [[0.0, \"#0d0887\"], [0.1111111111111111, \"#46039f\"], [0.2222222222222222, \"#7201a8\"], [0.3333333333333333, \"#9c179e\"], [0.4444444444444444, \"#bd3786\"], [0.5555555555555556, \"#d8576b\"], [0.6666666666666666, \"#ed7953\"], [0.7777777777777778, \"#fb9f3a\"], [0.8888888888888888, \"#fdca26\"], [1.0, \"#f0f921\"]], \"type\": \"surface\"}], \"table\": [{\"cells\": {\"fill\": {\"color\": \"#EBF0F8\"}, \"line\": {\"color\": \"white\"}}, \"header\": {\"fill\": {\"color\": \"#C8D4E3\"}, \"line\": {\"color\": \"white\"}}, \"type\": \"table\"}]}, \"layout\": {\"annotationdefaults\": {\"arrowcolor\": \"#2a3f5f\", \"arrowhead\": 0, \"arrowwidth\": 1}, \"coloraxis\": {\"colorbar\": {\"outlinewidth\": 0, \"ticks\": \"\"}}, \"colorscale\": {\"diverging\": [[0, \"#8e0152\"], [0.1, \"#c51b7d\"], [0.2, \"#de77ae\"], [0.3, \"#f1b6da\"], [0.4, \"#fde0ef\"], [0.5, \"#f7f7f7\"], [0.6, \"#e6f5d0\"], [0.7, \"#b8e186\"], [0.8, \"#7fbc41\"], [0.9, \"#4d9221\"], [1, \"#276419\"]], \"sequential\": [[0.0, \"#0d0887\"], [0.1111111111111111, \"#46039f\"], [0.2222222222222222, \"#7201a8\"], [0.3333333333333333, \"#9c179e\"], [0.4444444444444444, \"#bd3786\"], [0.5555555555555556, \"#d8576b\"], [0.6666666666666666, \"#ed7953\"], [0.7777777777777778, \"#fb9f3a\"], [0.8888888888888888, \"#fdca26\"], [1.0, \"#f0f921\"]], \"sequentialminus\": [[0.0, \"#0d0887\"], [0.1111111111111111, \"#46039f\"], [0.2222222222222222, \"#7201a8\"], [0.3333333333333333, \"#9c179e\"], [0.4444444444444444, \"#bd3786\"], [0.5555555555555556, \"#d8576b\"], [0.6666666666666666, \"#ed7953\"], [0.7777777777777778, \"#fb9f3a\"], [0.8888888888888888, \"#fdca26\"], [1.0, \"#f0f921\"]]}, \"colorway\": [\"#636efa\", \"#EF553B\", \"#00cc96\", \"#ab63fa\", \"#FFA15A\", \"#19d3f3\", \"#FF6692\", \"#B6E880\", \"#FF97FF\", \"#FECB52\"], \"font\": {\"color\": \"#2a3f5f\"}, \"geo\": {\"bgcolor\": \"white\", \"lakecolor\": \"white\", \"landcolor\": \"#E5ECF6\", \"showlakes\": true, \"showland\": true, \"subunitcolor\": \"white\"}, \"hoverlabel\": {\"align\": \"left\"}, \"hovermode\": \"closest\", \"mapbox\": {\"style\": \"light\"}, \"paper_bgcolor\": \"white\", \"plot_bgcolor\": \"#E5ECF6\", \"polar\": {\"angularaxis\": {\"gridcolor\": \"white\", \"linecolor\": \"white\", \"ticks\": \"\"}, \"bgcolor\": \"#E5ECF6\", \"radialaxis\": {\"gridcolor\": \"white\", \"linecolor\": \"white\", \"ticks\": \"\"}}, \"scene\": {\"xaxis\": {\"backgroundcolor\": \"#E5ECF6\", \"gridcolor\": \"white\", \"gridwidth\": 2, \"linecolor\": \"white\", \"showbackground\": true, \"ticks\": \"\", \"zerolinecolor\": \"white\"}, \"yaxis\": {\"backgroundcolor\": \"#E5ECF6\", \"gridcolor\": \"white\", \"gridwidth\": 2, \"linecolor\": \"white\", \"showbackground\": true, \"ticks\": \"\", \"zerolinecolor\": \"white\"}, \"zaxis\": {\"backgroundcolor\": \"#E5ECF6\", \"gridcolor\": \"white\", \"gridwidth\": 2, \"linecolor\": \"white\", \"showbackground\": true, \"ticks\": \"\", \"zerolinecolor\": \"white\"}}, \"shapedefaults\": {\"line\": {\"color\": \"#2a3f5f\"}}, \"ternary\": {\"aaxis\": {\"gridcolor\": \"white\", \"linecolor\": \"white\", \"ticks\": \"\"}, \"baxis\": {\"gridcolor\": \"white\", \"linecolor\": \"white\", \"ticks\": \"\"}, \"bgcolor\": \"#E5ECF6\", \"caxis\": {\"gridcolor\": \"white\", \"linecolor\": \"white\", \"ticks\": \"\"}}, \"title\": {\"x\": 0.05}, \"xaxis\": {\"automargin\": true, \"gridcolor\": \"white\", \"linecolor\": \"white\", \"ticks\": \"\", \"title\": {\"standoff\": 15}, \"zerolinecolor\": \"white\", \"zerolinewidth\": 2}, \"yaxis\": {\"automargin\": true, \"gridcolor\": \"white\", \"linecolor\": \"white\", \"ticks\": \"\", \"title\": {\"standoff\": 15}, \"zerolinecolor\": \"white\", \"zerolinewidth\": 2}}}, \"title\": {\"text\": \"Industry Cluster Categorical Dot Plot, Ohio State, 2014-2018\"}, \"width\": 800, \"xaxis\": {\"dtick\": 1, \"linecolor\": \"rgb(102, 102, 102)\", \"showgrid\": true, \"showline\": true, \"showticklabels\": true, \"tickcolor\": \"rgb(102, 102, 102)\", \"tickfont\": {\"color\": \"rgb(102, 102, 102)\"}, \"ticks\": \"outside\"}},\n",
       "                        {\"responsive\": true}\n",
       "                    ).then(function(){\n",
       "                            \n",
       "var gd = document.getElementById('19d8c05e-1ca4-4912-8a97-cf2325cb86bc');\n",
       "var x = new MutationObserver(function (mutations, observer) {{\n",
       "        var display = window.getComputedStyle(gd).display;\n",
       "        if (!display || display === 'none') {{\n",
       "            console.log([gd, 'removed!']);\n",
       "            Plotly.purge(gd);\n",
       "            observer.disconnect();\n",
       "        }}\n",
       "}});\n",
       "\n",
       "// Listen for the removal of the full notebook cells\n",
       "var notebookContainer = gd.closest('#notebook-container');\n",
       "if (notebookContainer) {{\n",
       "    x.observe(notebookContainer, {childList: true});\n",
       "}}\n",
       "\n",
       "// Listen for the clearing of the current output cell\n",
       "var outputEl = gd.closest('.output');\n",
       "if (outputEl) {{\n",
       "    x.observe(outputEl, {childList: true});\n",
       "}}\n",
       "\n",
       "                        })\n",
       "                };\n",
       "                });\n",
       "            </script>\n",
       "        </div>"
      ]
     },
     "metadata": {},
     "output_type": "display_data"
    }
   ],
   "source": [
    "import plotly.graph_objects as go\n",
    "\n",
    "y = df['Description'].values.tolist()\n",
    "fig = go.Figure()\n",
    "\n",
    "fig.add_trace(go.Scatter(\n",
    "    x=df['Ohio_LQ_2018'], y=y,\n",
    "    name='Location Quotient in 2018',\n",
    "    marker=dict(\n",
    "        color='rgba(156, 165, 196, 0.95)',\n",
    "        line_color='rgba(156, 165, 196, 1.0)',\n",
    "    )\n",
    "))\n",
    "fig.add_trace(go.Scatter(\n",
    "    x=df['Ohio_LQ_growth'], y=y,\n",
    "    name='Percentage-Point Change in LQ, 2014-2018',\n",
    "    marker=dict(\n",
    "        color='rgba(204, 204, 204, 0.95)',\n",
    "        line_color='rgba(217, 217, 217, 1.0)'\n",
    "    )\n",
    "))\n",
    "\n",
    "fig.add_trace(go.Scatter(\n",
    "    x=df['Jobs_ohio']/100000, y=y,\n",
    "    name='Sector Employment in 2018, *100k',\n",
    "    marker=dict(\n",
    "        color='rgba(144, 244, 244, 0.9)',\n",
    "        line_color='rgba(217, 217, 217, 1.0)'\n",
    "    )\n",
    "))\n",
    "\n",
    "fig.update_traces(mode='markers', marker=dict(line_width=1, symbol='circle', size=16))\n",
    "\n",
    "fig.update_layout(\n",
    "    title=\"Industry Cluster Categorical Dot Plot, Ohio State, 2014-2018\",\n",
    "    xaxis=dict(\n",
    "        showgrid=True,\n",
    "        showline=True,\n",
    "        linecolor='rgb(102, 102, 102)',\n",
    "        tickfont_color='rgb(102, 102, 102)',\n",
    "        showticklabels=True,\n",
    "        dtick=1,\n",
    "        ticks='outside',\n",
    "        tickcolor='rgb(102, 102, 102)',\n",
    "    ),\n",
    "    margin=dict(l=140, r=40, b=50, t=80),\n",
    "    legend=dict(\n",
    "        font_size=10,\n",
    "        yanchor='middle',\n",
    "        xanchor='right',\n",
    "    ),\n",
    "    width=800,\n",
    "    height=600,\n",
    "    paper_bgcolor='white',\n",
    "    plot_bgcolor='white',\n",
    "    hovermode='closest',\n",
    ")\n",
    "fig.show()\n"
   ]
  },
  {
   "cell_type": "markdown",
   "metadata": {},
   "source": [
    "From the \"Industry Cluster Categorical Dot Plot, Ohio State, 2014-2018\" one may see that location quotient of the cluster of \"Agriculture, Forestry, Fishing and Hunting\" grew the fastest (by more than 8%).\n",
    "\n",
    "Another decently growing sector is the \"Mining\", which LQ grew by more than 6% during this time period.\n",
    "Sadly, such sectors as \"Admin, Support, Waste\", \"Management of Companies and Enterprises\" shrink during these years."
   ]
  },
  {
   "cell_type": "markdown",
   "metadata": {},
   "source": [
    "Now, let's plot the industry cluster bubble chart and categorical dot plot for Adams County, Ohio."
   ]
  },
  {
   "cell_type": "code",
   "execution_count": 264,
   "metadata": {},
   "outputs": [
    {
     "data": {
      "application/vnd.plotly.v1+json": {
       "config": {
        "plotlyServerURL": "https://plot.ly"
       },
       "data": [
        {
         "marker": {
          "color": [
           10,
           20,
           30,
           40,
           50,
           60,
           70,
           80,
           90,
           100,
           110,
           120,
           130,
           140,
           150,
           160,
           170,
           180,
           190
          ],
          "line": {
           "width": 2
          },
          "size": [
           0,
           0,
           11.789826122551595,
           16.24807680927192,
           29.257477676655586,
           15.937377450509228,
           29.427877939124322,
           10.198039027185569,
           5.385164807134504,
           13.74772708486752,
           6.324555320336759,
           0,
           0,
           14.628738838327793,
           27.018512172212592,
           34.058772731852805,
           5.196152422706632,
           22.315913604421397,
           9.797958971132712,
           19.4164878389476
          ],
          "sizemode": "area",
          "sizeref": 0.0170293863659264
         },
         "mode": "markers",
         "name": "0        Agriculture, Forestry, Fishing and Hunting\n1                                            Mining\n2                                         Utilities\n3                                      Construction\n4                                     Manufacturing\n5                                   Wholesale Trade\n6                                      Retail Trade\n7                      Transportation & Warehousing\n8                                       Information\n9                             Finance and Insurance\n10               Real Estate and Rental and Leasing\n11              Professional, Scientific, Technical\n12          Management of Companies and Enterprises\n13                            Admin, Support, Waste\n14                             Educational Services\n15                  Health Care and Social Services\n16              Arts, Entertainment, and Recreation\n17                  Accommodation and Food Services\n18    Other Services (Except Public Administration)\n19                            Public Administration",
         "text": [
          "Industry Cluster: Agriculture, Forestry, Fishing and Hunting<br>Sector Employment: 0<br>Location Quotient: 0.0<br>Percentage-Point Change in LQ: -inf",
          "Industry Cluster: Mining<br>Sector Employment: 0<br>Location Quotient: 0.0<br>Percentage-Point Change in LQ: -inf",
          "Industry Cluster: Utilities<br>Sector Employment: 139<br>Location Quotient: 4.12<br>Percentage-Point Change in LQ: -18.2",
          "Industry Cluster: Construction<br>Sector Employment: 264<br>Location Quotient: 0.86<br>Percentage-Point Change in LQ: 41.86",
          "Industry Cluster: Manufacturing<br>Sector Employment: 856<br>Location Quotient: 1.62<br>Percentage-Point Change in LQ: 18.52",
          "Industry Cluster: Wholesale Trade<br>Sector Employment: 254<br>Location Quotient: 1.04<br>Percentage-Point Change in LQ: 8.65",
          "Industry Cluster: Retail Trade<br>Sector Employment: 866<br>Location Quotient: 1.32<br>Percentage-Point Change in LQ: -2.27",
          "Industry Cluster: Transportation & Warehousing<br>Sector Employment: 104<br>Location Quotient: 0.41<br>Percentage-Point Change in LQ: -21.95",
          "Industry Cluster: Information<br>Sector Employment: 29<br>Location Quotient: 0.23<br>Percentage-Point Change in LQ: -26.09",
          "Industry Cluster: Finance and Insurance<br>Sector Employment: 189<br>Location Quotient: 0.76<br>Percentage-Point Change in LQ: 7.89",
          "Industry Cluster: Real Estate and Rental and Leasing<br>Sector Employment: 40<br>Location Quotient: 0.42<br>Percentage-Point Change in LQ: 14.29",
          "Industry Cluster: Professional, Scientific, Technical<br>Sector Employment: 0<br>Location Quotient: 0.0<br>Percentage-Point Change in LQ: -inf",
          "Industry Cluster: Management of Companies and Enterprises<br>Sector Employment: 0<br>Location Quotient: 0.0<br>Percentage-Point Change in LQ: nan",
          "Industry Cluster: Admin, Support, Waste<br>Sector Employment: 214<br>Location Quotient: 0.55<br>Percentage-Point Change in LQ: 100.0",
          "Industry Cluster: Educational Services<br>Sector Employment: 730<br>Location Quotient: 1.39<br>Percentage-Point Change in LQ: 0.72",
          "Industry Cluster: Health Care and Social Services<br>Sector Employment: 1160<br>Location Quotient: 1.29<br>Percentage-Point Change in LQ: -18.6",
          "Industry Cluster: Arts, Entertainment, and Recreation<br>Sector Employment: 27<br>Location Quotient: 0.24<br>Percentage-Point Change in LQ: 0.0",
          "Industry Cluster: Accommodation and Food Services<br>Sector Employment: 498<br>Location Quotient: 0.86<br>Percentage-Point Change in LQ: -23.26",
          "Industry Cluster: Other Services (Except Public Administration)<br>Sector Employment: 96<br>Location Quotient: 0.51<br>Percentage-Point Change in LQ: -19.61",
          "Industry Cluster: Public Administration<br>Sector Employment: 377<br>Location Quotient: 1.22<br>Percentage-Point Change in LQ: 4.92"
         ],
         "type": "scatter",
         "x": [
          null,
          null,
          -18.2,
          41.86,
          18.52,
          8.65,
          -2.27,
          -21.95,
          -26.09,
          7.89,
          14.29,
          null,
          null,
          100,
          0.72,
          -18.6,
          0,
          -23.26,
          -19.61,
          4.92
         ],
         "y": [
          0,
          0,
          4.12,
          0.86,
          1.62,
          1.04,
          1.32,
          0.41,
          0.23,
          0.76,
          0.42,
          0,
          0,
          0.55,
          1.39,
          1.29,
          0.24,
          0.86,
          0.51,
          1.22
         ]
        }
       ],
       "layout": {
        "annotations": [
         {
          "text": "Agriculture, Forestry, Fishing and Hunting",
          "x": null,
          "y": 0
         },
         {
          "text": "Mining",
          "x": null,
          "y": 0
         },
         {
          "text": "Utilities",
          "x": -18.2,
          "y": 4.12
         },
         {
          "text": "Construction",
          "x": 41.86,
          "y": 0.86
         },
         {
          "text": "Manufacturing",
          "x": 18.52,
          "y": 1.62
         },
         {
          "text": "Wholesale Trade",
          "x": 8.65,
          "y": 1.04
         },
         {
          "text": "Retail Trade",
          "x": -2.27,
          "y": 1.32
         },
         {
          "text": "Transportation & Warehousing",
          "x": -21.95,
          "y": 0.41
         },
         {
          "text": "Information",
          "x": -26.09,
          "y": 0.23
         },
         {
          "text": "Finance and Insurance",
          "x": 7.89,
          "y": 0.76
         },
         {
          "text": "Real Estate and Rental and Leasing",
          "x": 14.29,
          "y": 0.42
         },
         {
          "text": "Professional, Scientific, Technical",
          "x": null,
          "y": 0
         },
         {
          "text": "Admin, Support, Waste",
          "x": 100,
          "y": 0.55
         },
         {
          "text": "Health Care and Social Services",
          "x": -18.6,
          "y": 1.29
         },
         {
          "text": "Accommodation and Food Services",
          "x": -23.26,
          "y": 0.86
         },
         {
          "text": "Other Services (Except Public Administration)",
          "x": -19.61,
          "y": 0.51
         },
         {
          "text": "Public Administration",
          "x": 4.92,
          "y": 1.22
         }
        ],
        "paper_bgcolor": "rgb(243, 243, 243)",
        "plot_bgcolor": "rgb(243, 243, 243)",
        "shapes": [
         {
          "type": "line",
          "x0": 0,
          "x1": 0,
          "xref": "x",
          "y0": 0,
          "y1": 1,
          "yref": "paper"
         },
         {
          "type": "line",
          "x0": 0,
          "x1": 1,
          "xref": "paper",
          "y0": 1,
          "y1": 1,
          "yref": "y"
         }
        ],
        "template": {
         "data": {
          "bar": [
           {
            "error_x": {
             "color": "#2a3f5f"
            },
            "error_y": {
             "color": "#2a3f5f"
            },
            "marker": {
             "line": {
              "color": "#E5ECF6",
              "width": 0.5
             }
            },
            "type": "bar"
           }
          ],
          "barpolar": [
           {
            "marker": {
             "line": {
              "color": "#E5ECF6",
              "width": 0.5
             }
            },
            "type": "barpolar"
           }
          ],
          "carpet": [
           {
            "aaxis": {
             "endlinecolor": "#2a3f5f",
             "gridcolor": "white",
             "linecolor": "white",
             "minorgridcolor": "white",
             "startlinecolor": "#2a3f5f"
            },
            "baxis": {
             "endlinecolor": "#2a3f5f",
             "gridcolor": "white",
             "linecolor": "white",
             "minorgridcolor": "white",
             "startlinecolor": "#2a3f5f"
            },
            "type": "carpet"
           }
          ],
          "choropleth": [
           {
            "colorbar": {
             "outlinewidth": 0,
             "ticks": ""
            },
            "type": "choropleth"
           }
          ],
          "contour": [
           {
            "colorbar": {
             "outlinewidth": 0,
             "ticks": ""
            },
            "colorscale": [
             [
              0,
              "#0d0887"
             ],
             [
              0.1111111111111111,
              "#46039f"
             ],
             [
              0.2222222222222222,
              "#7201a8"
             ],
             [
              0.3333333333333333,
              "#9c179e"
             ],
             [
              0.4444444444444444,
              "#bd3786"
             ],
             [
              0.5555555555555556,
              "#d8576b"
             ],
             [
              0.6666666666666666,
              "#ed7953"
             ],
             [
              0.7777777777777778,
              "#fb9f3a"
             ],
             [
              0.8888888888888888,
              "#fdca26"
             ],
             [
              1,
              "#f0f921"
             ]
            ],
            "type": "contour"
           }
          ],
          "contourcarpet": [
           {
            "colorbar": {
             "outlinewidth": 0,
             "ticks": ""
            },
            "type": "contourcarpet"
           }
          ],
          "heatmap": [
           {
            "colorbar": {
             "outlinewidth": 0,
             "ticks": ""
            },
            "colorscale": [
             [
              0,
              "#0d0887"
             ],
             [
              0.1111111111111111,
              "#46039f"
             ],
             [
              0.2222222222222222,
              "#7201a8"
             ],
             [
              0.3333333333333333,
              "#9c179e"
             ],
             [
              0.4444444444444444,
              "#bd3786"
             ],
             [
              0.5555555555555556,
              "#d8576b"
             ],
             [
              0.6666666666666666,
              "#ed7953"
             ],
             [
              0.7777777777777778,
              "#fb9f3a"
             ],
             [
              0.8888888888888888,
              "#fdca26"
             ],
             [
              1,
              "#f0f921"
             ]
            ],
            "type": "heatmap"
           }
          ],
          "heatmapgl": [
           {
            "colorbar": {
             "outlinewidth": 0,
             "ticks": ""
            },
            "colorscale": [
             [
              0,
              "#0d0887"
             ],
             [
              0.1111111111111111,
              "#46039f"
             ],
             [
              0.2222222222222222,
              "#7201a8"
             ],
             [
              0.3333333333333333,
              "#9c179e"
             ],
             [
              0.4444444444444444,
              "#bd3786"
             ],
             [
              0.5555555555555556,
              "#d8576b"
             ],
             [
              0.6666666666666666,
              "#ed7953"
             ],
             [
              0.7777777777777778,
              "#fb9f3a"
             ],
             [
              0.8888888888888888,
              "#fdca26"
             ],
             [
              1,
              "#f0f921"
             ]
            ],
            "type": "heatmapgl"
           }
          ],
          "histogram": [
           {
            "marker": {
             "colorbar": {
              "outlinewidth": 0,
              "ticks": ""
             }
            },
            "type": "histogram"
           }
          ],
          "histogram2d": [
           {
            "colorbar": {
             "outlinewidth": 0,
             "ticks": ""
            },
            "colorscale": [
             [
              0,
              "#0d0887"
             ],
             [
              0.1111111111111111,
              "#46039f"
             ],
             [
              0.2222222222222222,
              "#7201a8"
             ],
             [
              0.3333333333333333,
              "#9c179e"
             ],
             [
              0.4444444444444444,
              "#bd3786"
             ],
             [
              0.5555555555555556,
              "#d8576b"
             ],
             [
              0.6666666666666666,
              "#ed7953"
             ],
             [
              0.7777777777777778,
              "#fb9f3a"
             ],
             [
              0.8888888888888888,
              "#fdca26"
             ],
             [
              1,
              "#f0f921"
             ]
            ],
            "type": "histogram2d"
           }
          ],
          "histogram2dcontour": [
           {
            "colorbar": {
             "outlinewidth": 0,
             "ticks": ""
            },
            "colorscale": [
             [
              0,
              "#0d0887"
             ],
             [
              0.1111111111111111,
              "#46039f"
             ],
             [
              0.2222222222222222,
              "#7201a8"
             ],
             [
              0.3333333333333333,
              "#9c179e"
             ],
             [
              0.4444444444444444,
              "#bd3786"
             ],
             [
              0.5555555555555556,
              "#d8576b"
             ],
             [
              0.6666666666666666,
              "#ed7953"
             ],
             [
              0.7777777777777778,
              "#fb9f3a"
             ],
             [
              0.8888888888888888,
              "#fdca26"
             ],
             [
              1,
              "#f0f921"
             ]
            ],
            "type": "histogram2dcontour"
           }
          ],
          "mesh3d": [
           {
            "colorbar": {
             "outlinewidth": 0,
             "ticks": ""
            },
            "type": "mesh3d"
           }
          ],
          "parcoords": [
           {
            "line": {
             "colorbar": {
              "outlinewidth": 0,
              "ticks": ""
             }
            },
            "type": "parcoords"
           }
          ],
          "pie": [
           {
            "automargin": true,
            "type": "pie"
           }
          ],
          "scatter": [
           {
            "marker": {
             "colorbar": {
              "outlinewidth": 0,
              "ticks": ""
             }
            },
            "type": "scatter"
           }
          ],
          "scatter3d": [
           {
            "line": {
             "colorbar": {
              "outlinewidth": 0,
              "ticks": ""
             }
            },
            "marker": {
             "colorbar": {
              "outlinewidth": 0,
              "ticks": ""
             }
            },
            "type": "scatter3d"
           }
          ],
          "scattercarpet": [
           {
            "marker": {
             "colorbar": {
              "outlinewidth": 0,
              "ticks": ""
             }
            },
            "type": "scattercarpet"
           }
          ],
          "scattergeo": [
           {
            "marker": {
             "colorbar": {
              "outlinewidth": 0,
              "ticks": ""
             }
            },
            "type": "scattergeo"
           }
          ],
          "scattergl": [
           {
            "marker": {
             "colorbar": {
              "outlinewidth": 0,
              "ticks": ""
             }
            },
            "type": "scattergl"
           }
          ],
          "scattermapbox": [
           {
            "marker": {
             "colorbar": {
              "outlinewidth": 0,
              "ticks": ""
             }
            },
            "type": "scattermapbox"
           }
          ],
          "scatterpolar": [
           {
            "marker": {
             "colorbar": {
              "outlinewidth": 0,
              "ticks": ""
             }
            },
            "type": "scatterpolar"
           }
          ],
          "scatterpolargl": [
           {
            "marker": {
             "colorbar": {
              "outlinewidth": 0,
              "ticks": ""
             }
            },
            "type": "scatterpolargl"
           }
          ],
          "scatterternary": [
           {
            "marker": {
             "colorbar": {
              "outlinewidth": 0,
              "ticks": ""
             }
            },
            "type": "scatterternary"
           }
          ],
          "surface": [
           {
            "colorbar": {
             "outlinewidth": 0,
             "ticks": ""
            },
            "colorscale": [
             [
              0,
              "#0d0887"
             ],
             [
              0.1111111111111111,
              "#46039f"
             ],
             [
              0.2222222222222222,
              "#7201a8"
             ],
             [
              0.3333333333333333,
              "#9c179e"
             ],
             [
              0.4444444444444444,
              "#bd3786"
             ],
             [
              0.5555555555555556,
              "#d8576b"
             ],
             [
              0.6666666666666666,
              "#ed7953"
             ],
             [
              0.7777777777777778,
              "#fb9f3a"
             ],
             [
              0.8888888888888888,
              "#fdca26"
             ],
             [
              1,
              "#f0f921"
             ]
            ],
            "type": "surface"
           }
          ],
          "table": [
           {
            "cells": {
             "fill": {
              "color": "#EBF0F8"
             },
             "line": {
              "color": "white"
             }
            },
            "header": {
             "fill": {
              "color": "#C8D4E3"
             },
             "line": {
              "color": "white"
             }
            },
            "type": "table"
           }
          ]
         },
         "layout": {
          "annotationdefaults": {
           "arrowcolor": "#2a3f5f",
           "arrowhead": 0,
           "arrowwidth": 1
          },
          "coloraxis": {
           "colorbar": {
            "outlinewidth": 0,
            "ticks": ""
           }
          },
          "colorscale": {
           "diverging": [
            [
             0,
             "#8e0152"
            ],
            [
             0.1,
             "#c51b7d"
            ],
            [
             0.2,
             "#de77ae"
            ],
            [
             0.3,
             "#f1b6da"
            ],
            [
             0.4,
             "#fde0ef"
            ],
            [
             0.5,
             "#f7f7f7"
            ],
            [
             0.6,
             "#e6f5d0"
            ],
            [
             0.7,
             "#b8e186"
            ],
            [
             0.8,
             "#7fbc41"
            ],
            [
             0.9,
             "#4d9221"
            ],
            [
             1,
             "#276419"
            ]
           ],
           "sequential": [
            [
             0,
             "#0d0887"
            ],
            [
             0.1111111111111111,
             "#46039f"
            ],
            [
             0.2222222222222222,
             "#7201a8"
            ],
            [
             0.3333333333333333,
             "#9c179e"
            ],
            [
             0.4444444444444444,
             "#bd3786"
            ],
            [
             0.5555555555555556,
             "#d8576b"
            ],
            [
             0.6666666666666666,
             "#ed7953"
            ],
            [
             0.7777777777777778,
             "#fb9f3a"
            ],
            [
             0.8888888888888888,
             "#fdca26"
            ],
            [
             1,
             "#f0f921"
            ]
           ],
           "sequentialminus": [
            [
             0,
             "#0d0887"
            ],
            [
             0.1111111111111111,
             "#46039f"
            ],
            [
             0.2222222222222222,
             "#7201a8"
            ],
            [
             0.3333333333333333,
             "#9c179e"
            ],
            [
             0.4444444444444444,
             "#bd3786"
            ],
            [
             0.5555555555555556,
             "#d8576b"
            ],
            [
             0.6666666666666666,
             "#ed7953"
            ],
            [
             0.7777777777777778,
             "#fb9f3a"
            ],
            [
             0.8888888888888888,
             "#fdca26"
            ],
            [
             1,
             "#f0f921"
            ]
           ]
          },
          "colorway": [
           "#636efa",
           "#EF553B",
           "#00cc96",
           "#ab63fa",
           "#FFA15A",
           "#19d3f3",
           "#FF6692",
           "#B6E880",
           "#FF97FF",
           "#FECB52"
          ],
          "font": {
           "color": "#2a3f5f"
          },
          "geo": {
           "bgcolor": "white",
           "lakecolor": "white",
           "landcolor": "#E5ECF6",
           "showlakes": true,
           "showland": true,
           "subunitcolor": "white"
          },
          "hoverlabel": {
           "align": "left"
          },
          "hovermode": "closest",
          "mapbox": {
           "style": "light"
          },
          "paper_bgcolor": "white",
          "plot_bgcolor": "#E5ECF6",
          "polar": {
           "angularaxis": {
            "gridcolor": "white",
            "linecolor": "white",
            "ticks": ""
           },
           "bgcolor": "#E5ECF6",
           "radialaxis": {
            "gridcolor": "white",
            "linecolor": "white",
            "ticks": ""
           }
          },
          "scene": {
           "xaxis": {
            "backgroundcolor": "#E5ECF6",
            "gridcolor": "white",
            "gridwidth": 2,
            "linecolor": "white",
            "showbackground": true,
            "ticks": "",
            "zerolinecolor": "white"
           },
           "yaxis": {
            "backgroundcolor": "#E5ECF6",
            "gridcolor": "white",
            "gridwidth": 2,
            "linecolor": "white",
            "showbackground": true,
            "ticks": "",
            "zerolinecolor": "white"
           },
           "zaxis": {
            "backgroundcolor": "#E5ECF6",
            "gridcolor": "white",
            "gridwidth": 2,
            "linecolor": "white",
            "showbackground": true,
            "ticks": "",
            "zerolinecolor": "white"
           }
          },
          "shapedefaults": {
           "line": {
            "color": "#2a3f5f"
           }
          },
          "ternary": {
           "aaxis": {
            "gridcolor": "white",
            "linecolor": "white",
            "ticks": ""
           },
           "baxis": {
            "gridcolor": "white",
            "linecolor": "white",
            "ticks": ""
           },
           "bgcolor": "#E5ECF6",
           "caxis": {
            "gridcolor": "white",
            "linecolor": "white",
            "ticks": ""
           }
          },
          "title": {
           "x": 0.05
          },
          "xaxis": {
           "automargin": true,
           "gridcolor": "white",
           "linecolor": "white",
           "ticks": "",
           "title": {
            "standoff": 15
           },
           "zerolinecolor": "white",
           "zerolinewidth": 2
          },
          "yaxis": {
           "automargin": true,
           "gridcolor": "white",
           "linecolor": "white",
           "ticks": "",
           "title": {
            "standoff": 15
           },
           "zerolinecolor": "white",
           "zerolinewidth": 2
          }
         }
        },
        "title": {
         "text": "Industry Cluster Bubble Charts, Adams Country, Ohio, 2014-2018"
        },
        "xaxis": {
         "gridcolor": "white",
         "gridwidth": 2,
         "title": {
          "text": "Percentage-Point Change in LQ, 2014-2018"
         }
        },
        "yaxis": {
         "gridcolor": "white",
         "gridwidth": 2,
         "title": {
          "text": "Location Quotient in 2018"
         }
        }
       }
      },
      "text/html": [
       "<div>\n",
       "        \n",
       "        \n",
       "            <div id=\"20fcdf74-19fa-48cd-9998-c65c0fd46bad\" class=\"plotly-graph-div\" style=\"height:525px; width:100%;\"></div>\n",
       "            <script type=\"text/javascript\">\n",
       "                require([\"plotly\"], function(Plotly) {\n",
       "                    window.PLOTLYENV=window.PLOTLYENV || {};\n",
       "                    \n",
       "                if (document.getElementById(\"20fcdf74-19fa-48cd-9998-c65c0fd46bad\")) {\n",
       "                    Plotly.newPlot(\n",
       "                        '20fcdf74-19fa-48cd-9998-c65c0fd46bad',\n",
       "                        [{\"marker\": {\"color\": [10, 20, 30, 40, 50, 60, 70, 80, 90, 100, 110, 120, 130, 140, 150, 160, 170, 180, 190], \"line\": {\"width\": 2}, \"size\": [0.0, 0.0, 11.789826122551595, 16.24807680927192, 29.257477676655586, 15.937377450509228, 29.427877939124322, 10.198039027185569, 5.385164807134504, 13.74772708486752, 6.324555320336759, 0.0, 0.0, 14.628738838327793, 27.018512172212592, 34.058772731852805, 5.196152422706632, 22.315913604421397, 9.797958971132712, 19.4164878389476], \"sizemode\": \"area\", \"sizeref\": 0.0170293863659264}, \"mode\": \"markers\", \"name\": \"0        Agriculture, Forestry, Fishing and Hunting\\n1                                            Mining\\n2                                         Utilities\\n3                                      Construction\\n4                                     Manufacturing\\n5                                   Wholesale Trade\\n6                                      Retail Trade\\n7                      Transportation & Warehousing\\n8                                       Information\\n9                             Finance and Insurance\\n10               Real Estate and Rental and Leasing\\n11              Professional, Scientific, Technical\\n12          Management of Companies and Enterprises\\n13                            Admin, Support, Waste\\n14                             Educational Services\\n15                  Health Care and Social Services\\n16              Arts, Entertainment, and Recreation\\n17                  Accommodation and Food Services\\n18    Other Services (Except Public Administration)\\n19                            Public Administration\", \"text\": [\"Industry Cluster: Agriculture, Forestry, Fishing and Hunting<br>Sector Employment: 0<br>Location Quotient: 0.0<br>Percentage-Point Change in LQ: -inf\", \"Industry Cluster: Mining<br>Sector Employment: 0<br>Location Quotient: 0.0<br>Percentage-Point Change in LQ: -inf\", \"Industry Cluster: Utilities<br>Sector Employment: 139<br>Location Quotient: 4.12<br>Percentage-Point Change in LQ: -18.2\", \"Industry Cluster: Construction<br>Sector Employment: 264<br>Location Quotient: 0.86<br>Percentage-Point Change in LQ: 41.86\", \"Industry Cluster: Manufacturing<br>Sector Employment: 856<br>Location Quotient: 1.62<br>Percentage-Point Change in LQ: 18.52\", \"Industry Cluster: Wholesale Trade<br>Sector Employment: 254<br>Location Quotient: 1.04<br>Percentage-Point Change in LQ: 8.65\", \"Industry Cluster: Retail Trade<br>Sector Employment: 866<br>Location Quotient: 1.32<br>Percentage-Point Change in LQ: -2.27\", \"Industry Cluster: Transportation & Warehousing<br>Sector Employment: 104<br>Location Quotient: 0.41<br>Percentage-Point Change in LQ: -21.95\", \"Industry Cluster: Information<br>Sector Employment: 29<br>Location Quotient: 0.23<br>Percentage-Point Change in LQ: -26.09\", \"Industry Cluster: Finance and Insurance<br>Sector Employment: 189<br>Location Quotient: 0.76<br>Percentage-Point Change in LQ: 7.89\", \"Industry Cluster: Real Estate and Rental and Leasing<br>Sector Employment: 40<br>Location Quotient: 0.42<br>Percentage-Point Change in LQ: 14.29\", \"Industry Cluster: Professional, Scientific, Technical<br>Sector Employment: 0<br>Location Quotient: 0.0<br>Percentage-Point Change in LQ: -inf\", \"Industry Cluster: Management of Companies and Enterprises<br>Sector Employment: 0<br>Location Quotient: 0.0<br>Percentage-Point Change in LQ: nan\", \"Industry Cluster: Admin, Support, Waste<br>Sector Employment: 214<br>Location Quotient: 0.55<br>Percentage-Point Change in LQ: 100.0\", \"Industry Cluster: Educational Services<br>Sector Employment: 730<br>Location Quotient: 1.39<br>Percentage-Point Change in LQ: 0.72\", \"Industry Cluster: Health Care and Social Services<br>Sector Employment: 1160<br>Location Quotient: 1.29<br>Percentage-Point Change in LQ: -18.6\", \"Industry Cluster: Arts, Entertainment, and Recreation<br>Sector Employment: 27<br>Location Quotient: 0.24<br>Percentage-Point Change in LQ: 0.0\", \"Industry Cluster: Accommodation and Food Services<br>Sector Employment: 498<br>Location Quotient: 0.86<br>Percentage-Point Change in LQ: -23.26\", \"Industry Cluster: Other Services (Except Public Administration)<br>Sector Employment: 96<br>Location Quotient: 0.51<br>Percentage-Point Change in LQ: -19.61\", \"Industry Cluster: Public Administration<br>Sector Employment: 377<br>Location Quotient: 1.22<br>Percentage-Point Change in LQ: 4.92\"], \"type\": \"scatter\", \"x\": [null, null, -18.2, 41.86, 18.52, 8.65, -2.27, -21.95, -26.09, 7.89, 14.29, null, null, 100.0, 0.72, -18.6, 0.0, -23.26, -19.61, 4.92], \"y\": [0.0, 0.0, 4.12, 0.86, 1.62, 1.04, 1.32, 0.41, 0.23, 0.76, 0.42, 0.0, 0.0, 0.55, 1.39, 1.29, 0.24, 0.86, 0.51, 1.22]}],\n",
       "                        {\"annotations\": [{\"text\": \"Agriculture, Forestry, Fishing and Hunting\", \"x\": null, \"y\": 0.0}, {\"text\": \"Mining\", \"x\": null, \"y\": 0.0}, {\"text\": \"Utilities\", \"x\": -18.2, \"y\": 4.12}, {\"text\": \"Construction\", \"x\": 41.86, \"y\": 0.86}, {\"text\": \"Manufacturing\", \"x\": 18.52, \"y\": 1.62}, {\"text\": \"Wholesale Trade\", \"x\": 8.65, \"y\": 1.04}, {\"text\": \"Retail Trade\", \"x\": -2.27, \"y\": 1.32}, {\"text\": \"Transportation & Warehousing\", \"x\": -21.95, \"y\": 0.41}, {\"text\": \"Information\", \"x\": -26.09, \"y\": 0.23}, {\"text\": \"Finance and Insurance\", \"x\": 7.89, \"y\": 0.76}, {\"text\": \"Real Estate and Rental and Leasing\", \"x\": 14.29, \"y\": 0.42}, {\"text\": \"Professional, Scientific, Technical\", \"x\": null, \"y\": 0.0}, {\"text\": \"Admin, Support, Waste\", \"x\": 100.0, \"y\": 0.55}, {\"text\": \"Health Care and Social Services\", \"x\": -18.6, \"y\": 1.29}, {\"text\": \"Accommodation and Food Services\", \"x\": -23.26, \"y\": 0.86}, {\"text\": \"Other Services (Except Public Administration)\", \"x\": -19.61, \"y\": 0.51}, {\"text\": \"Public Administration\", \"x\": 4.92, \"y\": 1.22}], \"paper_bgcolor\": \"rgb(243, 243, 243)\", \"plot_bgcolor\": \"rgb(243, 243, 243)\", \"shapes\": [{\"type\": \"line\", \"x0\": 0, \"x1\": 0, \"xref\": \"x\", \"y0\": 0, \"y1\": 1, \"yref\": \"paper\"}, {\"type\": \"line\", \"x0\": 0, \"x1\": 1, \"xref\": \"paper\", \"y0\": 1, \"y1\": 1, \"yref\": \"y\"}], \"template\": {\"data\": {\"bar\": [{\"error_x\": {\"color\": \"#2a3f5f\"}, \"error_y\": {\"color\": \"#2a3f5f\"}, \"marker\": {\"line\": {\"color\": \"#E5ECF6\", \"width\": 0.5}}, \"type\": \"bar\"}], \"barpolar\": [{\"marker\": {\"line\": {\"color\": \"#E5ECF6\", \"width\": 0.5}}, \"type\": \"barpolar\"}], \"carpet\": [{\"aaxis\": {\"endlinecolor\": \"#2a3f5f\", \"gridcolor\": \"white\", \"linecolor\": \"white\", \"minorgridcolor\": \"white\", \"startlinecolor\": \"#2a3f5f\"}, \"baxis\": {\"endlinecolor\": \"#2a3f5f\", \"gridcolor\": \"white\", \"linecolor\": \"white\", \"minorgridcolor\": \"white\", \"startlinecolor\": \"#2a3f5f\"}, \"type\": \"carpet\"}], \"choropleth\": [{\"colorbar\": {\"outlinewidth\": 0, \"ticks\": \"\"}, \"type\": \"choropleth\"}], \"contour\": [{\"colorbar\": {\"outlinewidth\": 0, \"ticks\": \"\"}, \"colorscale\": [[0.0, \"#0d0887\"], [0.1111111111111111, \"#46039f\"], [0.2222222222222222, \"#7201a8\"], [0.3333333333333333, \"#9c179e\"], [0.4444444444444444, \"#bd3786\"], [0.5555555555555556, \"#d8576b\"], [0.6666666666666666, \"#ed7953\"], [0.7777777777777778, \"#fb9f3a\"], [0.8888888888888888, \"#fdca26\"], [1.0, \"#f0f921\"]], \"type\": \"contour\"}], \"contourcarpet\": [{\"colorbar\": {\"outlinewidth\": 0, \"ticks\": \"\"}, \"type\": \"contourcarpet\"}], \"heatmap\": [{\"colorbar\": {\"outlinewidth\": 0, \"ticks\": \"\"}, \"colorscale\": [[0.0, \"#0d0887\"], [0.1111111111111111, \"#46039f\"], [0.2222222222222222, \"#7201a8\"], [0.3333333333333333, \"#9c179e\"], [0.4444444444444444, \"#bd3786\"], [0.5555555555555556, \"#d8576b\"], [0.6666666666666666, \"#ed7953\"], [0.7777777777777778, \"#fb9f3a\"], [0.8888888888888888, \"#fdca26\"], [1.0, \"#f0f921\"]], \"type\": \"heatmap\"}], \"heatmapgl\": [{\"colorbar\": {\"outlinewidth\": 0, \"ticks\": \"\"}, \"colorscale\": [[0.0, \"#0d0887\"], [0.1111111111111111, \"#46039f\"], [0.2222222222222222, \"#7201a8\"], [0.3333333333333333, \"#9c179e\"], [0.4444444444444444, \"#bd3786\"], [0.5555555555555556, \"#d8576b\"], [0.6666666666666666, \"#ed7953\"], [0.7777777777777778, \"#fb9f3a\"], [0.8888888888888888, \"#fdca26\"], [1.0, \"#f0f921\"]], \"type\": \"heatmapgl\"}], \"histogram\": [{\"marker\": {\"colorbar\": {\"outlinewidth\": 0, \"ticks\": \"\"}}, \"type\": \"histogram\"}], \"histogram2d\": [{\"colorbar\": {\"outlinewidth\": 0, \"ticks\": \"\"}, \"colorscale\": [[0.0, \"#0d0887\"], [0.1111111111111111, \"#46039f\"], [0.2222222222222222, \"#7201a8\"], [0.3333333333333333, \"#9c179e\"], [0.4444444444444444, \"#bd3786\"], [0.5555555555555556, \"#d8576b\"], [0.6666666666666666, \"#ed7953\"], [0.7777777777777778, \"#fb9f3a\"], [0.8888888888888888, \"#fdca26\"], [1.0, \"#f0f921\"]], \"type\": \"histogram2d\"}], \"histogram2dcontour\": [{\"colorbar\": {\"outlinewidth\": 0, \"ticks\": \"\"}, \"colorscale\": [[0.0, \"#0d0887\"], [0.1111111111111111, \"#46039f\"], [0.2222222222222222, \"#7201a8\"], [0.3333333333333333, \"#9c179e\"], [0.4444444444444444, \"#bd3786\"], [0.5555555555555556, \"#d8576b\"], [0.6666666666666666, \"#ed7953\"], [0.7777777777777778, \"#fb9f3a\"], [0.8888888888888888, \"#fdca26\"], [1.0, \"#f0f921\"]], \"type\": \"histogram2dcontour\"}], \"mesh3d\": [{\"colorbar\": {\"outlinewidth\": 0, \"ticks\": \"\"}, \"type\": \"mesh3d\"}], \"parcoords\": [{\"line\": {\"colorbar\": {\"outlinewidth\": 0, \"ticks\": \"\"}}, \"type\": \"parcoords\"}], \"pie\": [{\"automargin\": true, \"type\": \"pie\"}], \"scatter\": [{\"marker\": {\"colorbar\": {\"outlinewidth\": 0, \"ticks\": \"\"}}, \"type\": \"scatter\"}], \"scatter3d\": [{\"line\": {\"colorbar\": {\"outlinewidth\": 0, \"ticks\": \"\"}}, \"marker\": {\"colorbar\": {\"outlinewidth\": 0, \"ticks\": \"\"}}, \"type\": \"scatter3d\"}], \"scattercarpet\": [{\"marker\": {\"colorbar\": {\"outlinewidth\": 0, \"ticks\": \"\"}}, \"type\": \"scattercarpet\"}], \"scattergeo\": [{\"marker\": {\"colorbar\": {\"outlinewidth\": 0, \"ticks\": \"\"}}, \"type\": \"scattergeo\"}], \"scattergl\": [{\"marker\": {\"colorbar\": {\"outlinewidth\": 0, \"ticks\": \"\"}}, \"type\": \"scattergl\"}], \"scattermapbox\": [{\"marker\": {\"colorbar\": {\"outlinewidth\": 0, \"ticks\": \"\"}}, \"type\": \"scattermapbox\"}], \"scatterpolar\": [{\"marker\": {\"colorbar\": {\"outlinewidth\": 0, \"ticks\": \"\"}}, \"type\": \"scatterpolar\"}], \"scatterpolargl\": [{\"marker\": {\"colorbar\": {\"outlinewidth\": 0, \"ticks\": \"\"}}, \"type\": \"scatterpolargl\"}], \"scatterternary\": [{\"marker\": {\"colorbar\": {\"outlinewidth\": 0, \"ticks\": \"\"}}, \"type\": \"scatterternary\"}], \"surface\": [{\"colorbar\": {\"outlinewidth\": 0, \"ticks\": \"\"}, \"colorscale\": [[0.0, \"#0d0887\"], [0.1111111111111111, \"#46039f\"], [0.2222222222222222, \"#7201a8\"], [0.3333333333333333, \"#9c179e\"], [0.4444444444444444, \"#bd3786\"], [0.5555555555555556, \"#d8576b\"], [0.6666666666666666, \"#ed7953\"], [0.7777777777777778, \"#fb9f3a\"], [0.8888888888888888, \"#fdca26\"], [1.0, \"#f0f921\"]], \"type\": \"surface\"}], \"table\": [{\"cells\": {\"fill\": {\"color\": \"#EBF0F8\"}, \"line\": {\"color\": \"white\"}}, \"header\": {\"fill\": {\"color\": \"#C8D4E3\"}, \"line\": {\"color\": \"white\"}}, \"type\": \"table\"}]}, \"layout\": {\"annotationdefaults\": {\"arrowcolor\": \"#2a3f5f\", \"arrowhead\": 0, \"arrowwidth\": 1}, \"coloraxis\": {\"colorbar\": {\"outlinewidth\": 0, \"ticks\": \"\"}}, \"colorscale\": {\"diverging\": [[0, \"#8e0152\"], [0.1, \"#c51b7d\"], [0.2, \"#de77ae\"], [0.3, \"#f1b6da\"], [0.4, \"#fde0ef\"], [0.5, \"#f7f7f7\"], [0.6, \"#e6f5d0\"], [0.7, \"#b8e186\"], [0.8, \"#7fbc41\"], [0.9, \"#4d9221\"], [1, \"#276419\"]], \"sequential\": [[0.0, \"#0d0887\"], [0.1111111111111111, \"#46039f\"], [0.2222222222222222, \"#7201a8\"], [0.3333333333333333, \"#9c179e\"], [0.4444444444444444, \"#bd3786\"], [0.5555555555555556, \"#d8576b\"], [0.6666666666666666, \"#ed7953\"], [0.7777777777777778, \"#fb9f3a\"], [0.8888888888888888, \"#fdca26\"], [1.0, \"#f0f921\"]], \"sequentialminus\": [[0.0, \"#0d0887\"], [0.1111111111111111, \"#46039f\"], [0.2222222222222222, \"#7201a8\"], [0.3333333333333333, \"#9c179e\"], [0.4444444444444444, \"#bd3786\"], [0.5555555555555556, \"#d8576b\"], [0.6666666666666666, \"#ed7953\"], [0.7777777777777778, \"#fb9f3a\"], [0.8888888888888888, \"#fdca26\"], [1.0, \"#f0f921\"]]}, \"colorway\": [\"#636efa\", \"#EF553B\", \"#00cc96\", \"#ab63fa\", \"#FFA15A\", \"#19d3f3\", \"#FF6692\", \"#B6E880\", \"#FF97FF\", \"#FECB52\"], \"font\": {\"color\": \"#2a3f5f\"}, \"geo\": {\"bgcolor\": \"white\", \"lakecolor\": \"white\", \"landcolor\": \"#E5ECF6\", \"showlakes\": true, \"showland\": true, \"subunitcolor\": \"white\"}, \"hoverlabel\": {\"align\": \"left\"}, \"hovermode\": \"closest\", \"mapbox\": {\"style\": \"light\"}, \"paper_bgcolor\": \"white\", \"plot_bgcolor\": \"#E5ECF6\", \"polar\": {\"angularaxis\": {\"gridcolor\": \"white\", \"linecolor\": \"white\", \"ticks\": \"\"}, \"bgcolor\": \"#E5ECF6\", \"radialaxis\": {\"gridcolor\": \"white\", \"linecolor\": \"white\", \"ticks\": \"\"}}, \"scene\": {\"xaxis\": {\"backgroundcolor\": \"#E5ECF6\", \"gridcolor\": \"white\", \"gridwidth\": 2, \"linecolor\": \"white\", \"showbackground\": true, \"ticks\": \"\", \"zerolinecolor\": \"white\"}, \"yaxis\": {\"backgroundcolor\": \"#E5ECF6\", \"gridcolor\": \"white\", \"gridwidth\": 2, \"linecolor\": \"white\", \"showbackground\": true, \"ticks\": \"\", \"zerolinecolor\": \"white\"}, \"zaxis\": {\"backgroundcolor\": \"#E5ECF6\", \"gridcolor\": \"white\", \"gridwidth\": 2, \"linecolor\": \"white\", \"showbackground\": true, \"ticks\": \"\", \"zerolinecolor\": \"white\"}}, \"shapedefaults\": {\"line\": {\"color\": \"#2a3f5f\"}}, \"ternary\": {\"aaxis\": {\"gridcolor\": \"white\", \"linecolor\": \"white\", \"ticks\": \"\"}, \"baxis\": {\"gridcolor\": \"white\", \"linecolor\": \"white\", \"ticks\": \"\"}, \"bgcolor\": \"#E5ECF6\", \"caxis\": {\"gridcolor\": \"white\", \"linecolor\": \"white\", \"ticks\": \"\"}}, \"title\": {\"x\": 0.05}, \"xaxis\": {\"automargin\": true, \"gridcolor\": \"white\", \"linecolor\": \"white\", \"ticks\": \"\", \"title\": {\"standoff\": 15}, \"zerolinecolor\": \"white\", \"zerolinewidth\": 2}, \"yaxis\": {\"automargin\": true, \"gridcolor\": \"white\", \"linecolor\": \"white\", \"ticks\": \"\", \"title\": {\"standoff\": 15}, \"zerolinecolor\": \"white\", \"zerolinewidth\": 2}}}, \"title\": {\"text\": \"Industry Cluster Bubble Charts, Adams Country, Ohio, 2014-2018\"}, \"xaxis\": {\"gridcolor\": \"white\", \"gridwidth\": 2, \"title\": {\"text\": \"Percentage-Point Change in LQ, 2014-2018\"}}, \"yaxis\": {\"gridcolor\": \"white\", \"gridwidth\": 2, \"title\": {\"text\": \"Location Quotient in 2018\"}}},\n",
       "                        {\"responsive\": true}\n",
       "                    ).then(function(){\n",
       "                            \n",
       "var gd = document.getElementById('20fcdf74-19fa-48cd-9998-c65c0fd46bad');\n",
       "var x = new MutationObserver(function (mutations, observer) {{\n",
       "        var display = window.getComputedStyle(gd).display;\n",
       "        if (!display || display === 'none') {{\n",
       "            console.log([gd, 'removed!']);\n",
       "            Plotly.purge(gd);\n",
       "            observer.disconnect();\n",
       "        }}\n",
       "}});\n",
       "\n",
       "// Listen for the removal of the full notebook cells\n",
       "var notebookContainer = gd.closest('#notebook-container');\n",
       "if (notebookContainer) {{\n",
       "    x.observe(notebookContainer, {childList: true});\n",
       "}}\n",
       "\n",
       "// Listen for the clearing of the current output cell\n",
       "var outputEl = gd.closest('.output');\n",
       "if (outputEl) {{\n",
       "    x.observe(outputEl, {childList: true});\n",
       "}}\n",
       "\n",
       "                        })\n",
       "                };\n",
       "                });\n",
       "            </script>\n",
       "        </div>"
      ]
     },
     "metadata": {},
     "output_type": "display_data"
    }
   ],
   "source": [
    "import plotly.graph_objects as go\n",
    "import plotly.express as px\n",
    "import math\n",
    "\n",
    "hover_text = []\n",
    "bubble_size = []\n",
    "\n",
    "for index, row in df.iterrows():\n",
    "    hover_text.append(('Industry Cluster: {Description}<br>'+\n",
    "                      'Sector Employment: {Jobs_adams}<br>'+\n",
    "                      'Location Quotient: {Adams_LQ_2018}<br>'+\n",
    "                      'Percentage-Point Change in LQ: {Adams_LQ_growth}').format(Description=row['Description'],\n",
    "                                            Jobs_adams=row['Jobs_adams'],\n",
    "                                            Adams_LQ_2018=row['Adams_LQ_2018'],\n",
    "                                            Adams_LQ_growth=row['Adams_LQ_growth']))\n",
    "    bubble_size.append(math.sqrt(row['Jobs_adams']))\n",
    "\n",
    "df['text_adams'] = hover_text\n",
    "df['size_adams'] = bubble_size\n",
    "sizeref = 5.*max(df['size_adams'])/(100**2)\n",
    "\n",
    "# Create figure\n",
    "fig = go.Figure()\n",
    "fig.add_trace(go.Scatter(\n",
    "        x=df['Adams_LQ_growth'], y=df['Adams_LQ_2018'],\n",
    "        name=pd.Series.to_string(df['Description']), text=df['text_adams'],\n",
    "        marker_size=df['size_adams']))\n",
    "\n",
    "# Tune marker appearance and layout\n",
    "fig.update_traces(mode='markers', marker=dict(size=df['size_adams'],\n",
    "                                              sizemode='area', \n",
    "                                              color=[*range(10, 200, 10)],\n",
    "                                              sizeref=sizeref, line_width=2,))\n",
    "for index, row in df.iterrows():\n",
    "    if math.fabs(row['Adams_LQ_growth'])>1 or math.fabs(row['Adams_LQ_2018']-1)>1:\n",
    "        fig.add_annotation(\n",
    "            x=row['Adams_LQ_growth'],\n",
    "            y=row['Adams_LQ_2018'],   \n",
    "            text=row['Description'],\n",
    "    )\n",
    "\n",
    "fig.update_layout(\n",
    "    title='Industry Cluster Bubble Charts, Adams Country, Ohio, 2014-2018',\n",
    "    xaxis=dict(\n",
    "        title='Percentage-Point Change in LQ, 2014-2018',\n",
    "        gridcolor='white',\n",
    "        #type='log',\n",
    "        gridwidth=2\n",
    "    ),\n",
    "    yaxis=dict(\n",
    "        title='Location Quotient in 2018',\n",
    "        gridcolor='white',\n",
    "        gridwidth=2,\n",
    "    ),\n",
    "    paper_bgcolor='rgb(243, 243, 243)',\n",
    "    plot_bgcolor='rgb(243, 243, 243)'\n",
    ")\n",
    "\n",
    "\n",
    "fig.update_layout(shapes=[\n",
    "    dict(\n",
    "      type= 'line',\n",
    "      yref= 'paper', y0= 0, y1= 1,\n",
    "      xref= 'x', x0= 0, x1= 0\n",
    "    ),\n",
    "    dict(\n",
    "      type= 'line',\n",
    "      yref= 'y', y0= 1, y1= 1,\n",
    "      xref= 'paper', x0= 0, x1= 1\n",
    "    )\n",
    "])    \n",
    "\n",
    "\n",
    "fig.show()"
   ]
  },
  {
   "cell_type": "code",
   "execution_count": 268,
   "metadata": {},
   "outputs": [
    {
     "data": {
      "application/vnd.plotly.v1+json": {
       "config": {
        "plotlyServerURL": "https://plot.ly"
       },
       "data": [
        {
         "marker": {
          "color": "rgba(156, 165, 196, 0.95)",
          "line": {
           "color": "rgba(156, 165, 196, 1.0)",
           "width": 1
          },
          "size": 16,
          "symbol": "circle"
         },
         "mode": "markers",
         "name": "Location Quotient in 2018",
         "type": "scatter",
         "x": [
          0,
          0,
          4.12,
          0.86,
          1.62,
          1.04,
          1.32,
          0.41,
          0.23,
          0.76,
          0.42,
          0,
          0,
          0.55,
          1.39,
          1.29,
          0.24,
          0.86,
          0.51,
          1.22
         ],
         "y": [
          "Agriculture, Forestry, Fishing and Hunting",
          "Mining",
          "Utilities",
          "Construction",
          "Manufacturing",
          "Wholesale Trade",
          "Retail Trade",
          "Transportation & Warehousing",
          "Information",
          "Finance and Insurance",
          "Real Estate and Rental and Leasing",
          "Professional, Scientific, Technical",
          "Management of Companies and Enterprises",
          "Admin, Support, Waste",
          "Educational Services",
          "Health Care and Social Services",
          "Arts, Entertainment, and Recreation",
          "Accommodation and Food Services",
          "Other Services (Except Public Administration)",
          "Public Administration"
         ]
        },
        {
         "marker": {
          "color": "rgba(204, 204, 204, 0.95)",
          "line": {
           "color": "rgba(217, 217, 217, 1.0)",
           "width": 1
          },
          "size": 16,
          "symbol": "circle"
         },
         "mode": "markers",
         "name": "Percentage-Point Change in LQ, 2014-2018",
         "type": "scatter",
         "x": [
          null,
          null,
          -18.2,
          41.86,
          18.52,
          8.65,
          -2.27,
          -21.95,
          -26.09,
          7.89,
          14.29,
          null,
          null,
          100,
          0.72,
          -18.6,
          0,
          -23.26,
          -19.61,
          4.92
         ],
         "y": [
          "Agriculture, Forestry, Fishing and Hunting",
          "Mining",
          "Utilities",
          "Construction",
          "Manufacturing",
          "Wholesale Trade",
          "Retail Trade",
          "Transportation & Warehousing",
          "Information",
          "Finance and Insurance",
          "Real Estate and Rental and Leasing",
          "Professional, Scientific, Technical",
          "Management of Companies and Enterprises",
          "Admin, Support, Waste",
          "Educational Services",
          "Health Care and Social Services",
          "Arts, Entertainment, and Recreation",
          "Accommodation and Food Services",
          "Other Services (Except Public Administration)",
          "Public Administration"
         ]
        },
        {
         "marker": {
          "color": "rgba(144, 244, 244, 0.9)",
          "line": {
           "color": "rgba(217, 217, 217, 1.0)",
           "width": 1
          },
          "size": 16,
          "symbol": "circle"
         },
         "mode": "markers",
         "name": "Sector Employment in 2018, *10",
         "type": "scatter",
         "x": [
          0,
          0,
          13.9,
          26.4,
          85.6,
          25.4,
          86.6,
          10.4,
          2.9,
          18.9,
          4,
          0,
          0,
          21.4,
          73,
          116,
          2.7,
          49.8,
          9.6,
          37.7
         ],
         "y": [
          "Agriculture, Forestry, Fishing and Hunting",
          "Mining",
          "Utilities",
          "Construction",
          "Manufacturing",
          "Wholesale Trade",
          "Retail Trade",
          "Transportation & Warehousing",
          "Information",
          "Finance and Insurance",
          "Real Estate and Rental and Leasing",
          "Professional, Scientific, Technical",
          "Management of Companies and Enterprises",
          "Admin, Support, Waste",
          "Educational Services",
          "Health Care and Social Services",
          "Arts, Entertainment, and Recreation",
          "Accommodation and Food Services",
          "Other Services (Except Public Administration)",
          "Public Administration"
         ]
        }
       ],
       "layout": {
        "height": 600,
        "hovermode": "closest",
        "legend": {
         "font": {
          "size": 10
         },
         "xanchor": "right",
         "yanchor": "middle"
        },
        "margin": {
         "b": 50,
         "l": 140,
         "r": 40,
         "t": 80
        },
        "paper_bgcolor": "white",
        "plot_bgcolor": "white",
        "template": {
         "data": {
          "bar": [
           {
            "error_x": {
             "color": "#2a3f5f"
            },
            "error_y": {
             "color": "#2a3f5f"
            },
            "marker": {
             "line": {
              "color": "#E5ECF6",
              "width": 0.5
             }
            },
            "type": "bar"
           }
          ],
          "barpolar": [
           {
            "marker": {
             "line": {
              "color": "#E5ECF6",
              "width": 0.5
             }
            },
            "type": "barpolar"
           }
          ],
          "carpet": [
           {
            "aaxis": {
             "endlinecolor": "#2a3f5f",
             "gridcolor": "white",
             "linecolor": "white",
             "minorgridcolor": "white",
             "startlinecolor": "#2a3f5f"
            },
            "baxis": {
             "endlinecolor": "#2a3f5f",
             "gridcolor": "white",
             "linecolor": "white",
             "minorgridcolor": "white",
             "startlinecolor": "#2a3f5f"
            },
            "type": "carpet"
           }
          ],
          "choropleth": [
           {
            "colorbar": {
             "outlinewidth": 0,
             "ticks": ""
            },
            "type": "choropleth"
           }
          ],
          "contour": [
           {
            "colorbar": {
             "outlinewidth": 0,
             "ticks": ""
            },
            "colorscale": [
             [
              0,
              "#0d0887"
             ],
             [
              0.1111111111111111,
              "#46039f"
             ],
             [
              0.2222222222222222,
              "#7201a8"
             ],
             [
              0.3333333333333333,
              "#9c179e"
             ],
             [
              0.4444444444444444,
              "#bd3786"
             ],
             [
              0.5555555555555556,
              "#d8576b"
             ],
             [
              0.6666666666666666,
              "#ed7953"
             ],
             [
              0.7777777777777778,
              "#fb9f3a"
             ],
             [
              0.8888888888888888,
              "#fdca26"
             ],
             [
              1,
              "#f0f921"
             ]
            ],
            "type": "contour"
           }
          ],
          "contourcarpet": [
           {
            "colorbar": {
             "outlinewidth": 0,
             "ticks": ""
            },
            "type": "contourcarpet"
           }
          ],
          "heatmap": [
           {
            "colorbar": {
             "outlinewidth": 0,
             "ticks": ""
            },
            "colorscale": [
             [
              0,
              "#0d0887"
             ],
             [
              0.1111111111111111,
              "#46039f"
             ],
             [
              0.2222222222222222,
              "#7201a8"
             ],
             [
              0.3333333333333333,
              "#9c179e"
             ],
             [
              0.4444444444444444,
              "#bd3786"
             ],
             [
              0.5555555555555556,
              "#d8576b"
             ],
             [
              0.6666666666666666,
              "#ed7953"
             ],
             [
              0.7777777777777778,
              "#fb9f3a"
             ],
             [
              0.8888888888888888,
              "#fdca26"
             ],
             [
              1,
              "#f0f921"
             ]
            ],
            "type": "heatmap"
           }
          ],
          "heatmapgl": [
           {
            "colorbar": {
             "outlinewidth": 0,
             "ticks": ""
            },
            "colorscale": [
             [
              0,
              "#0d0887"
             ],
             [
              0.1111111111111111,
              "#46039f"
             ],
             [
              0.2222222222222222,
              "#7201a8"
             ],
             [
              0.3333333333333333,
              "#9c179e"
             ],
             [
              0.4444444444444444,
              "#bd3786"
             ],
             [
              0.5555555555555556,
              "#d8576b"
             ],
             [
              0.6666666666666666,
              "#ed7953"
             ],
             [
              0.7777777777777778,
              "#fb9f3a"
             ],
             [
              0.8888888888888888,
              "#fdca26"
             ],
             [
              1,
              "#f0f921"
             ]
            ],
            "type": "heatmapgl"
           }
          ],
          "histogram": [
           {
            "marker": {
             "colorbar": {
              "outlinewidth": 0,
              "ticks": ""
             }
            },
            "type": "histogram"
           }
          ],
          "histogram2d": [
           {
            "colorbar": {
             "outlinewidth": 0,
             "ticks": ""
            },
            "colorscale": [
             [
              0,
              "#0d0887"
             ],
             [
              0.1111111111111111,
              "#46039f"
             ],
             [
              0.2222222222222222,
              "#7201a8"
             ],
             [
              0.3333333333333333,
              "#9c179e"
             ],
             [
              0.4444444444444444,
              "#bd3786"
             ],
             [
              0.5555555555555556,
              "#d8576b"
             ],
             [
              0.6666666666666666,
              "#ed7953"
             ],
             [
              0.7777777777777778,
              "#fb9f3a"
             ],
             [
              0.8888888888888888,
              "#fdca26"
             ],
             [
              1,
              "#f0f921"
             ]
            ],
            "type": "histogram2d"
           }
          ],
          "histogram2dcontour": [
           {
            "colorbar": {
             "outlinewidth": 0,
             "ticks": ""
            },
            "colorscale": [
             [
              0,
              "#0d0887"
             ],
             [
              0.1111111111111111,
              "#46039f"
             ],
             [
              0.2222222222222222,
              "#7201a8"
             ],
             [
              0.3333333333333333,
              "#9c179e"
             ],
             [
              0.4444444444444444,
              "#bd3786"
             ],
             [
              0.5555555555555556,
              "#d8576b"
             ],
             [
              0.6666666666666666,
              "#ed7953"
             ],
             [
              0.7777777777777778,
              "#fb9f3a"
             ],
             [
              0.8888888888888888,
              "#fdca26"
             ],
             [
              1,
              "#f0f921"
             ]
            ],
            "type": "histogram2dcontour"
           }
          ],
          "mesh3d": [
           {
            "colorbar": {
             "outlinewidth": 0,
             "ticks": ""
            },
            "type": "mesh3d"
           }
          ],
          "parcoords": [
           {
            "line": {
             "colorbar": {
              "outlinewidth": 0,
              "ticks": ""
             }
            },
            "type": "parcoords"
           }
          ],
          "pie": [
           {
            "automargin": true,
            "type": "pie"
           }
          ],
          "scatter": [
           {
            "marker": {
             "colorbar": {
              "outlinewidth": 0,
              "ticks": ""
             }
            },
            "type": "scatter"
           }
          ],
          "scatter3d": [
           {
            "line": {
             "colorbar": {
              "outlinewidth": 0,
              "ticks": ""
             }
            },
            "marker": {
             "colorbar": {
              "outlinewidth": 0,
              "ticks": ""
             }
            },
            "type": "scatter3d"
           }
          ],
          "scattercarpet": [
           {
            "marker": {
             "colorbar": {
              "outlinewidth": 0,
              "ticks": ""
             }
            },
            "type": "scattercarpet"
           }
          ],
          "scattergeo": [
           {
            "marker": {
             "colorbar": {
              "outlinewidth": 0,
              "ticks": ""
             }
            },
            "type": "scattergeo"
           }
          ],
          "scattergl": [
           {
            "marker": {
             "colorbar": {
              "outlinewidth": 0,
              "ticks": ""
             }
            },
            "type": "scattergl"
           }
          ],
          "scattermapbox": [
           {
            "marker": {
             "colorbar": {
              "outlinewidth": 0,
              "ticks": ""
             }
            },
            "type": "scattermapbox"
           }
          ],
          "scatterpolar": [
           {
            "marker": {
             "colorbar": {
              "outlinewidth": 0,
              "ticks": ""
             }
            },
            "type": "scatterpolar"
           }
          ],
          "scatterpolargl": [
           {
            "marker": {
             "colorbar": {
              "outlinewidth": 0,
              "ticks": ""
             }
            },
            "type": "scatterpolargl"
           }
          ],
          "scatterternary": [
           {
            "marker": {
             "colorbar": {
              "outlinewidth": 0,
              "ticks": ""
             }
            },
            "type": "scatterternary"
           }
          ],
          "surface": [
           {
            "colorbar": {
             "outlinewidth": 0,
             "ticks": ""
            },
            "colorscale": [
             [
              0,
              "#0d0887"
             ],
             [
              0.1111111111111111,
              "#46039f"
             ],
             [
              0.2222222222222222,
              "#7201a8"
             ],
             [
              0.3333333333333333,
              "#9c179e"
             ],
             [
              0.4444444444444444,
              "#bd3786"
             ],
             [
              0.5555555555555556,
              "#d8576b"
             ],
             [
              0.6666666666666666,
              "#ed7953"
             ],
             [
              0.7777777777777778,
              "#fb9f3a"
             ],
             [
              0.8888888888888888,
              "#fdca26"
             ],
             [
              1,
              "#f0f921"
             ]
            ],
            "type": "surface"
           }
          ],
          "table": [
           {
            "cells": {
             "fill": {
              "color": "#EBF0F8"
             },
             "line": {
              "color": "white"
             }
            },
            "header": {
             "fill": {
              "color": "#C8D4E3"
             },
             "line": {
              "color": "white"
             }
            },
            "type": "table"
           }
          ]
         },
         "layout": {
          "annotationdefaults": {
           "arrowcolor": "#2a3f5f",
           "arrowhead": 0,
           "arrowwidth": 1
          },
          "coloraxis": {
           "colorbar": {
            "outlinewidth": 0,
            "ticks": ""
           }
          },
          "colorscale": {
           "diverging": [
            [
             0,
             "#8e0152"
            ],
            [
             0.1,
             "#c51b7d"
            ],
            [
             0.2,
             "#de77ae"
            ],
            [
             0.3,
             "#f1b6da"
            ],
            [
             0.4,
             "#fde0ef"
            ],
            [
             0.5,
             "#f7f7f7"
            ],
            [
             0.6,
             "#e6f5d0"
            ],
            [
             0.7,
             "#b8e186"
            ],
            [
             0.8,
             "#7fbc41"
            ],
            [
             0.9,
             "#4d9221"
            ],
            [
             1,
             "#276419"
            ]
           ],
           "sequential": [
            [
             0,
             "#0d0887"
            ],
            [
             0.1111111111111111,
             "#46039f"
            ],
            [
             0.2222222222222222,
             "#7201a8"
            ],
            [
             0.3333333333333333,
             "#9c179e"
            ],
            [
             0.4444444444444444,
             "#bd3786"
            ],
            [
             0.5555555555555556,
             "#d8576b"
            ],
            [
             0.6666666666666666,
             "#ed7953"
            ],
            [
             0.7777777777777778,
             "#fb9f3a"
            ],
            [
             0.8888888888888888,
             "#fdca26"
            ],
            [
             1,
             "#f0f921"
            ]
           ],
           "sequentialminus": [
            [
             0,
             "#0d0887"
            ],
            [
             0.1111111111111111,
             "#46039f"
            ],
            [
             0.2222222222222222,
             "#7201a8"
            ],
            [
             0.3333333333333333,
             "#9c179e"
            ],
            [
             0.4444444444444444,
             "#bd3786"
            ],
            [
             0.5555555555555556,
             "#d8576b"
            ],
            [
             0.6666666666666666,
             "#ed7953"
            ],
            [
             0.7777777777777778,
             "#fb9f3a"
            ],
            [
             0.8888888888888888,
             "#fdca26"
            ],
            [
             1,
             "#f0f921"
            ]
           ]
          },
          "colorway": [
           "#636efa",
           "#EF553B",
           "#00cc96",
           "#ab63fa",
           "#FFA15A",
           "#19d3f3",
           "#FF6692",
           "#B6E880",
           "#FF97FF",
           "#FECB52"
          ],
          "font": {
           "color": "#2a3f5f"
          },
          "geo": {
           "bgcolor": "white",
           "lakecolor": "white",
           "landcolor": "#E5ECF6",
           "showlakes": true,
           "showland": true,
           "subunitcolor": "white"
          },
          "hoverlabel": {
           "align": "left"
          },
          "hovermode": "closest",
          "mapbox": {
           "style": "light"
          },
          "paper_bgcolor": "white",
          "plot_bgcolor": "#E5ECF6",
          "polar": {
           "angularaxis": {
            "gridcolor": "white",
            "linecolor": "white",
            "ticks": ""
           },
           "bgcolor": "#E5ECF6",
           "radialaxis": {
            "gridcolor": "white",
            "linecolor": "white",
            "ticks": ""
           }
          },
          "scene": {
           "xaxis": {
            "backgroundcolor": "#E5ECF6",
            "gridcolor": "white",
            "gridwidth": 2,
            "linecolor": "white",
            "showbackground": true,
            "ticks": "",
            "zerolinecolor": "white"
           },
           "yaxis": {
            "backgroundcolor": "#E5ECF6",
            "gridcolor": "white",
            "gridwidth": 2,
            "linecolor": "white",
            "showbackground": true,
            "ticks": "",
            "zerolinecolor": "white"
           },
           "zaxis": {
            "backgroundcolor": "#E5ECF6",
            "gridcolor": "white",
            "gridwidth": 2,
            "linecolor": "white",
            "showbackground": true,
            "ticks": "",
            "zerolinecolor": "white"
           }
          },
          "shapedefaults": {
           "line": {
            "color": "#2a3f5f"
           }
          },
          "ternary": {
           "aaxis": {
            "gridcolor": "white",
            "linecolor": "white",
            "ticks": ""
           },
           "baxis": {
            "gridcolor": "white",
            "linecolor": "white",
            "ticks": ""
           },
           "bgcolor": "#E5ECF6",
           "caxis": {
            "gridcolor": "white",
            "linecolor": "white",
            "ticks": ""
           }
          },
          "title": {
           "x": 0.05
          },
          "xaxis": {
           "automargin": true,
           "gridcolor": "white",
           "linecolor": "white",
           "ticks": "",
           "title": {
            "standoff": 15
           },
           "zerolinecolor": "white",
           "zerolinewidth": 2
          },
          "yaxis": {
           "automargin": true,
           "gridcolor": "white",
           "linecolor": "white",
           "ticks": "",
           "title": {
            "standoff": 15
           },
           "zerolinecolor": "white",
           "zerolinewidth": 2
          }
         }
        },
        "title": {
         "text": "Industry Cluster Categorical Dot Plot, Adams Country, Ohio, 2014-2018"
        },
        "width": 800,
        "xaxis": {
         "dtick": 10,
         "linecolor": "rgb(102, 102, 102)",
         "showgrid": true,
         "showline": true,
         "showticklabels": true,
         "tickcolor": "rgb(102, 102, 102)",
         "tickfont": {
          "color": "rgb(102, 102, 102)"
         },
         "ticks": "outside"
        }
       }
      },
      "text/html": [
       "<div>\n",
       "        \n",
       "        \n",
       "            <div id=\"74cbc4e3-948c-4ea4-a3a3-443b54647ed6\" class=\"plotly-graph-div\" style=\"height:600px; width:800px;\"></div>\n",
       "            <script type=\"text/javascript\">\n",
       "                require([\"plotly\"], function(Plotly) {\n",
       "                    window.PLOTLYENV=window.PLOTLYENV || {};\n",
       "                    \n",
       "                if (document.getElementById(\"74cbc4e3-948c-4ea4-a3a3-443b54647ed6\")) {\n",
       "                    Plotly.newPlot(\n",
       "                        '74cbc4e3-948c-4ea4-a3a3-443b54647ed6',\n",
       "                        [{\"marker\": {\"color\": \"rgba(156, 165, 196, 0.95)\", \"line\": {\"color\": \"rgba(156, 165, 196, 1.0)\", \"width\": 1}, \"size\": 16, \"symbol\": \"circle\"}, \"mode\": \"markers\", \"name\": \"Location Quotient in 2018\", \"type\": \"scatter\", \"x\": [0.0, 0.0, 4.12, 0.86, 1.62, 1.04, 1.32, 0.41, 0.23, 0.76, 0.42, 0.0, 0.0, 0.55, 1.39, 1.29, 0.24, 0.86, 0.51, 1.22], \"y\": [\"Agriculture, Forestry, Fishing and Hunting\", \"Mining\", \"Utilities\", \"Construction\", \"Manufacturing\", \"Wholesale Trade\", \"Retail Trade\", \"Transportation & Warehousing\", \"Information\", \"Finance and Insurance\", \"Real Estate and Rental and Leasing\", \"Professional, Scientific, Technical\", \"Management of Companies and Enterprises\", \"Admin, Support, Waste\", \"Educational Services\", \"Health Care and Social Services\", \"Arts, Entertainment, and Recreation\", \"Accommodation and Food Services\", \"Other Services (Except Public Administration)\", \"Public Administration\"]}, {\"marker\": {\"color\": \"rgba(204, 204, 204, 0.95)\", \"line\": {\"color\": \"rgba(217, 217, 217, 1.0)\", \"width\": 1}, \"size\": 16, \"symbol\": \"circle\"}, \"mode\": \"markers\", \"name\": \"Percentage-Point Change in LQ, 2014-2018\", \"type\": \"scatter\", \"x\": [null, null, -18.2, 41.86, 18.52, 8.65, -2.27, -21.95, -26.09, 7.89, 14.29, null, null, 100.0, 0.72, -18.6, 0.0, -23.26, -19.61, 4.92], \"y\": [\"Agriculture, Forestry, Fishing and Hunting\", \"Mining\", \"Utilities\", \"Construction\", \"Manufacturing\", \"Wholesale Trade\", \"Retail Trade\", \"Transportation & Warehousing\", \"Information\", \"Finance and Insurance\", \"Real Estate and Rental and Leasing\", \"Professional, Scientific, Technical\", \"Management of Companies and Enterprises\", \"Admin, Support, Waste\", \"Educational Services\", \"Health Care and Social Services\", \"Arts, Entertainment, and Recreation\", \"Accommodation and Food Services\", \"Other Services (Except Public Administration)\", \"Public Administration\"]}, {\"marker\": {\"color\": \"rgba(144, 244, 244, 0.9)\", \"line\": {\"color\": \"rgba(217, 217, 217, 1.0)\", \"width\": 1}, \"size\": 16, \"symbol\": \"circle\"}, \"mode\": \"markers\", \"name\": \"Sector Employment in 2018, *10\", \"type\": \"scatter\", \"x\": [0.0, 0.0, 13.9, 26.4, 85.6, 25.4, 86.6, 10.4, 2.9, 18.9, 4.0, 0.0, 0.0, 21.4, 73.0, 116.0, 2.7, 49.8, 9.6, 37.7], \"y\": [\"Agriculture, Forestry, Fishing and Hunting\", \"Mining\", \"Utilities\", \"Construction\", \"Manufacturing\", \"Wholesale Trade\", \"Retail Trade\", \"Transportation & Warehousing\", \"Information\", \"Finance and Insurance\", \"Real Estate and Rental and Leasing\", \"Professional, Scientific, Technical\", \"Management of Companies and Enterprises\", \"Admin, Support, Waste\", \"Educational Services\", \"Health Care and Social Services\", \"Arts, Entertainment, and Recreation\", \"Accommodation and Food Services\", \"Other Services (Except Public Administration)\", \"Public Administration\"]}],\n",
       "                        {\"height\": 600, \"hovermode\": \"closest\", \"legend\": {\"font\": {\"size\": 10}, \"xanchor\": \"right\", \"yanchor\": \"middle\"}, \"margin\": {\"b\": 50, \"l\": 140, \"r\": 40, \"t\": 80}, \"paper_bgcolor\": \"white\", \"plot_bgcolor\": \"white\", \"template\": {\"data\": {\"bar\": [{\"error_x\": {\"color\": \"#2a3f5f\"}, \"error_y\": {\"color\": \"#2a3f5f\"}, \"marker\": {\"line\": {\"color\": \"#E5ECF6\", \"width\": 0.5}}, \"type\": \"bar\"}], \"barpolar\": [{\"marker\": {\"line\": {\"color\": \"#E5ECF6\", \"width\": 0.5}}, \"type\": \"barpolar\"}], \"carpet\": [{\"aaxis\": {\"endlinecolor\": \"#2a3f5f\", \"gridcolor\": \"white\", \"linecolor\": \"white\", \"minorgridcolor\": \"white\", \"startlinecolor\": \"#2a3f5f\"}, \"baxis\": {\"endlinecolor\": \"#2a3f5f\", \"gridcolor\": \"white\", \"linecolor\": \"white\", \"minorgridcolor\": \"white\", \"startlinecolor\": \"#2a3f5f\"}, \"type\": \"carpet\"}], \"choropleth\": [{\"colorbar\": {\"outlinewidth\": 0, \"ticks\": \"\"}, \"type\": \"choropleth\"}], \"contour\": [{\"colorbar\": {\"outlinewidth\": 0, \"ticks\": \"\"}, \"colorscale\": [[0.0, \"#0d0887\"], [0.1111111111111111, \"#46039f\"], [0.2222222222222222, \"#7201a8\"], [0.3333333333333333, \"#9c179e\"], [0.4444444444444444, \"#bd3786\"], [0.5555555555555556, \"#d8576b\"], [0.6666666666666666, \"#ed7953\"], [0.7777777777777778, \"#fb9f3a\"], [0.8888888888888888, \"#fdca26\"], [1.0, \"#f0f921\"]], \"type\": \"contour\"}], \"contourcarpet\": [{\"colorbar\": {\"outlinewidth\": 0, \"ticks\": \"\"}, \"type\": \"contourcarpet\"}], \"heatmap\": [{\"colorbar\": {\"outlinewidth\": 0, \"ticks\": \"\"}, \"colorscale\": [[0.0, \"#0d0887\"], [0.1111111111111111, \"#46039f\"], [0.2222222222222222, \"#7201a8\"], [0.3333333333333333, \"#9c179e\"], [0.4444444444444444, \"#bd3786\"], [0.5555555555555556, \"#d8576b\"], [0.6666666666666666, \"#ed7953\"], [0.7777777777777778, \"#fb9f3a\"], [0.8888888888888888, \"#fdca26\"], [1.0, \"#f0f921\"]], \"type\": \"heatmap\"}], \"heatmapgl\": [{\"colorbar\": {\"outlinewidth\": 0, \"ticks\": \"\"}, \"colorscale\": [[0.0, \"#0d0887\"], [0.1111111111111111, \"#46039f\"], [0.2222222222222222, \"#7201a8\"], [0.3333333333333333, \"#9c179e\"], [0.4444444444444444, \"#bd3786\"], [0.5555555555555556, \"#d8576b\"], [0.6666666666666666, \"#ed7953\"], [0.7777777777777778, \"#fb9f3a\"], [0.8888888888888888, \"#fdca26\"], [1.0, \"#f0f921\"]], \"type\": \"heatmapgl\"}], \"histogram\": [{\"marker\": {\"colorbar\": {\"outlinewidth\": 0, \"ticks\": \"\"}}, \"type\": \"histogram\"}], \"histogram2d\": [{\"colorbar\": {\"outlinewidth\": 0, \"ticks\": \"\"}, \"colorscale\": [[0.0, \"#0d0887\"], [0.1111111111111111, \"#46039f\"], [0.2222222222222222, \"#7201a8\"], [0.3333333333333333, \"#9c179e\"], [0.4444444444444444, \"#bd3786\"], [0.5555555555555556, \"#d8576b\"], [0.6666666666666666, \"#ed7953\"], [0.7777777777777778, \"#fb9f3a\"], [0.8888888888888888, \"#fdca26\"], [1.0, \"#f0f921\"]], \"type\": \"histogram2d\"}], \"histogram2dcontour\": [{\"colorbar\": {\"outlinewidth\": 0, \"ticks\": \"\"}, \"colorscale\": [[0.0, \"#0d0887\"], [0.1111111111111111, \"#46039f\"], [0.2222222222222222, \"#7201a8\"], [0.3333333333333333, \"#9c179e\"], [0.4444444444444444, \"#bd3786\"], [0.5555555555555556, \"#d8576b\"], [0.6666666666666666, \"#ed7953\"], [0.7777777777777778, \"#fb9f3a\"], [0.8888888888888888, \"#fdca26\"], [1.0, \"#f0f921\"]], \"type\": \"histogram2dcontour\"}], \"mesh3d\": [{\"colorbar\": {\"outlinewidth\": 0, \"ticks\": \"\"}, \"type\": \"mesh3d\"}], \"parcoords\": [{\"line\": {\"colorbar\": {\"outlinewidth\": 0, \"ticks\": \"\"}}, \"type\": \"parcoords\"}], \"pie\": [{\"automargin\": true, \"type\": \"pie\"}], \"scatter\": [{\"marker\": {\"colorbar\": {\"outlinewidth\": 0, \"ticks\": \"\"}}, \"type\": \"scatter\"}], \"scatter3d\": [{\"line\": {\"colorbar\": {\"outlinewidth\": 0, \"ticks\": \"\"}}, \"marker\": {\"colorbar\": {\"outlinewidth\": 0, \"ticks\": \"\"}}, \"type\": \"scatter3d\"}], \"scattercarpet\": [{\"marker\": {\"colorbar\": {\"outlinewidth\": 0, \"ticks\": \"\"}}, \"type\": \"scattercarpet\"}], \"scattergeo\": [{\"marker\": {\"colorbar\": {\"outlinewidth\": 0, \"ticks\": \"\"}}, \"type\": \"scattergeo\"}], \"scattergl\": [{\"marker\": {\"colorbar\": {\"outlinewidth\": 0, \"ticks\": \"\"}}, \"type\": \"scattergl\"}], \"scattermapbox\": [{\"marker\": {\"colorbar\": {\"outlinewidth\": 0, \"ticks\": \"\"}}, \"type\": \"scattermapbox\"}], \"scatterpolar\": [{\"marker\": {\"colorbar\": {\"outlinewidth\": 0, \"ticks\": \"\"}}, \"type\": \"scatterpolar\"}], \"scatterpolargl\": [{\"marker\": {\"colorbar\": {\"outlinewidth\": 0, \"ticks\": \"\"}}, \"type\": \"scatterpolargl\"}], \"scatterternary\": [{\"marker\": {\"colorbar\": {\"outlinewidth\": 0, \"ticks\": \"\"}}, \"type\": \"scatterternary\"}], \"surface\": [{\"colorbar\": {\"outlinewidth\": 0, \"ticks\": \"\"}, \"colorscale\": [[0.0, \"#0d0887\"], [0.1111111111111111, \"#46039f\"], [0.2222222222222222, \"#7201a8\"], [0.3333333333333333, \"#9c179e\"], [0.4444444444444444, \"#bd3786\"], [0.5555555555555556, \"#d8576b\"], [0.6666666666666666, \"#ed7953\"], [0.7777777777777778, \"#fb9f3a\"], [0.8888888888888888, \"#fdca26\"], [1.0, \"#f0f921\"]], \"type\": \"surface\"}], \"table\": [{\"cells\": {\"fill\": {\"color\": \"#EBF0F8\"}, \"line\": {\"color\": \"white\"}}, \"header\": {\"fill\": {\"color\": \"#C8D4E3\"}, \"line\": {\"color\": \"white\"}}, \"type\": \"table\"}]}, \"layout\": {\"annotationdefaults\": {\"arrowcolor\": \"#2a3f5f\", \"arrowhead\": 0, \"arrowwidth\": 1}, \"coloraxis\": {\"colorbar\": {\"outlinewidth\": 0, \"ticks\": \"\"}}, \"colorscale\": {\"diverging\": [[0, \"#8e0152\"], [0.1, \"#c51b7d\"], [0.2, \"#de77ae\"], [0.3, \"#f1b6da\"], [0.4, \"#fde0ef\"], [0.5, \"#f7f7f7\"], [0.6, \"#e6f5d0\"], [0.7, \"#b8e186\"], [0.8, \"#7fbc41\"], [0.9, \"#4d9221\"], [1, \"#276419\"]], \"sequential\": [[0.0, \"#0d0887\"], [0.1111111111111111, \"#46039f\"], [0.2222222222222222, \"#7201a8\"], [0.3333333333333333, \"#9c179e\"], [0.4444444444444444, \"#bd3786\"], [0.5555555555555556, \"#d8576b\"], [0.6666666666666666, \"#ed7953\"], [0.7777777777777778, \"#fb9f3a\"], [0.8888888888888888, \"#fdca26\"], [1.0, \"#f0f921\"]], \"sequentialminus\": [[0.0, \"#0d0887\"], [0.1111111111111111, \"#46039f\"], [0.2222222222222222, \"#7201a8\"], [0.3333333333333333, \"#9c179e\"], [0.4444444444444444, \"#bd3786\"], [0.5555555555555556, \"#d8576b\"], [0.6666666666666666, \"#ed7953\"], [0.7777777777777778, \"#fb9f3a\"], [0.8888888888888888, \"#fdca26\"], [1.0, \"#f0f921\"]]}, \"colorway\": [\"#636efa\", \"#EF553B\", \"#00cc96\", \"#ab63fa\", \"#FFA15A\", \"#19d3f3\", \"#FF6692\", \"#B6E880\", \"#FF97FF\", \"#FECB52\"], \"font\": {\"color\": \"#2a3f5f\"}, \"geo\": {\"bgcolor\": \"white\", \"lakecolor\": \"white\", \"landcolor\": \"#E5ECF6\", \"showlakes\": true, \"showland\": true, \"subunitcolor\": \"white\"}, \"hoverlabel\": {\"align\": \"left\"}, \"hovermode\": \"closest\", \"mapbox\": {\"style\": \"light\"}, \"paper_bgcolor\": \"white\", \"plot_bgcolor\": \"#E5ECF6\", \"polar\": {\"angularaxis\": {\"gridcolor\": \"white\", \"linecolor\": \"white\", \"ticks\": \"\"}, \"bgcolor\": \"#E5ECF6\", \"radialaxis\": {\"gridcolor\": \"white\", \"linecolor\": \"white\", \"ticks\": \"\"}}, \"scene\": {\"xaxis\": {\"backgroundcolor\": \"#E5ECF6\", \"gridcolor\": \"white\", \"gridwidth\": 2, \"linecolor\": \"white\", \"showbackground\": true, \"ticks\": \"\", \"zerolinecolor\": \"white\"}, \"yaxis\": {\"backgroundcolor\": \"#E5ECF6\", \"gridcolor\": \"white\", \"gridwidth\": 2, \"linecolor\": \"white\", \"showbackground\": true, \"ticks\": \"\", \"zerolinecolor\": \"white\"}, \"zaxis\": {\"backgroundcolor\": \"#E5ECF6\", \"gridcolor\": \"white\", \"gridwidth\": 2, \"linecolor\": \"white\", \"showbackground\": true, \"ticks\": \"\", \"zerolinecolor\": \"white\"}}, \"shapedefaults\": {\"line\": {\"color\": \"#2a3f5f\"}}, \"ternary\": {\"aaxis\": {\"gridcolor\": \"white\", \"linecolor\": \"white\", \"ticks\": \"\"}, \"baxis\": {\"gridcolor\": \"white\", \"linecolor\": \"white\", \"ticks\": \"\"}, \"bgcolor\": \"#E5ECF6\", \"caxis\": {\"gridcolor\": \"white\", \"linecolor\": \"white\", \"ticks\": \"\"}}, \"title\": {\"x\": 0.05}, \"xaxis\": {\"automargin\": true, \"gridcolor\": \"white\", \"linecolor\": \"white\", \"ticks\": \"\", \"title\": {\"standoff\": 15}, \"zerolinecolor\": \"white\", \"zerolinewidth\": 2}, \"yaxis\": {\"automargin\": true, \"gridcolor\": \"white\", \"linecolor\": \"white\", \"ticks\": \"\", \"title\": {\"standoff\": 15}, \"zerolinecolor\": \"white\", \"zerolinewidth\": 2}}}, \"title\": {\"text\": \"Industry Cluster Categorical Dot Plot, Adams Country, Ohio, 2014-2018\"}, \"width\": 800, \"xaxis\": {\"dtick\": 10, \"linecolor\": \"rgb(102, 102, 102)\", \"showgrid\": true, \"showline\": true, \"showticklabels\": true, \"tickcolor\": \"rgb(102, 102, 102)\", \"tickfont\": {\"color\": \"rgb(102, 102, 102)\"}, \"ticks\": \"outside\"}},\n",
       "                        {\"responsive\": true}\n",
       "                    ).then(function(){\n",
       "                            \n",
       "var gd = document.getElementById('74cbc4e3-948c-4ea4-a3a3-443b54647ed6');\n",
       "var x = new MutationObserver(function (mutations, observer) {{\n",
       "        var display = window.getComputedStyle(gd).display;\n",
       "        if (!display || display === 'none') {{\n",
       "            console.log([gd, 'removed!']);\n",
       "            Plotly.purge(gd);\n",
       "            observer.disconnect();\n",
       "        }}\n",
       "}});\n",
       "\n",
       "// Listen for the removal of the full notebook cells\n",
       "var notebookContainer = gd.closest('#notebook-container');\n",
       "if (notebookContainer) {{\n",
       "    x.observe(notebookContainer, {childList: true});\n",
       "}}\n",
       "\n",
       "// Listen for the clearing of the current output cell\n",
       "var outputEl = gd.closest('.output');\n",
       "if (outputEl) {{\n",
       "    x.observe(outputEl, {childList: true});\n",
       "}}\n",
       "\n",
       "                        })\n",
       "                };\n",
       "                });\n",
       "            </script>\n",
       "        </div>"
      ]
     },
     "metadata": {},
     "output_type": "display_data"
    }
   ],
   "source": [
    "import plotly.graph_objects as go\n",
    "\n",
    "y = df['Description'].values.tolist()\n",
    "fig = go.Figure()\n",
    "\n",
    "fig.add_trace(go.Scatter(\n",
    "    x=df['Adams_LQ_2018'], y=y,\n",
    "    name='Location Quotient in 2018',\n",
    "    marker=dict(\n",
    "        color='rgba(156, 165, 196, 0.95)',\n",
    "        line_color='rgba(156, 165, 196, 1.0)',\n",
    "    )\n",
    "))\n",
    "fig.add_trace(go.Scatter(\n",
    "    x=df['Adams_LQ_growth'], y=y,\n",
    "    name='Percentage-Point Change in LQ, 2014-2018',\n",
    "    marker=dict(\n",
    "        color='rgba(204, 204, 204, 0.95)',\n",
    "        line_color='rgba(217, 217, 217, 1.0)'\n",
    "    )\n",
    "))\n",
    "\n",
    "fig.add_trace(go.Scatter(\n",
    "    x=df['Jobs_adams']/10, y=y,\n",
    "    name='Sector Employment in 2018, *10',\n",
    "    marker=dict(\n",
    "        color='rgba(144, 244, 244, 0.9)',\n",
    "        line_color='rgba(217, 217, 217, 1.0)'\n",
    "    )\n",
    "))\n",
    "\n",
    "fig.update_traces(mode='markers', marker=dict(line_width=1, symbol='circle', size=16))\n",
    "\n",
    "fig.update_layout(\n",
    "    title=\"Industry Cluster Categorical Dot Plot, Adams Country, Ohio, 2014-2018\",\n",
    "    xaxis=dict(\n",
    "        showgrid=True,\n",
    "        showline=True,\n",
    "        linecolor='rgb(102, 102, 102)',\n",
    "        tickfont_color='rgb(102, 102, 102)',\n",
    "        showticklabels=True,\n",
    "        dtick=10,\n",
    "        ticks='outside',\n",
    "        tickcolor='rgb(102, 102, 102)',\n",
    "    ),\n",
    "    margin=dict(l=140, r=40, b=50, t=80),\n",
    "    legend=dict(\n",
    "        font_size=10,\n",
    "        yanchor='middle',\n",
    "        xanchor='right',\n",
    "    ),\n",
    "    width=800,\n",
    "    height=600,\n",
    "    paper_bgcolor='white',\n",
    "    plot_bgcolor='white',\n",
    "    hovermode='closest',\n",
    ")\n",
    "fig.show()\n"
   ]
  },
  {
   "cell_type": "markdown",
   "metadata": {},
   "source": [
    "From the \"Industry Cluster Categorical Dot Plot, Adams Country, Ohio, 2014-2018\" one may see that location quotient of the cluster of \"Admin, Support, Waste\" doubles in these years (grew by 100%).\n",
    "\n",
    "Another fast growing sector is the \"Construction\", which LQ grew by more than 40% during this time period.\n",
    "Sadly, such sectors as \"Information\", \"Transportation & Warehousing\" shrink during these years."
   ]
  },
  {
   "cell_type": "markdown",
   "metadata": {},
   "source": [
    "# References"
   ]
  },
  {
   "cell_type": "markdown",
   "metadata": {},
   "source": [
    "1. Diane F. Primont and Bruce Domazlicky in \"Industry Cluster Analysis for the Southeast Missouri Region,\" Center for Economic and Business Research, September 2008.\n",
    "2. For cluster definition, refere www.statsamerica.org/innovation/about.html\n",
    "3. For data, refere: http://www.statsamerica.org/innovation/anydata/\n"
   ]
  }
 ],
 "metadata": {
  "kernelspec": {
   "display_name": "Python 3",
   "language": "python",
   "name": "python3"
  },
  "language_info": {
   "codemirror_mode": {
    "name": "ipython",
    "version": 3
   },
   "file_extension": ".py",
   "mimetype": "text/x-python",
   "name": "python",
   "nbconvert_exporter": "python",
   "pygments_lexer": "ipython3",
   "version": "3.7.6"
  },
  "nbclean": true
 },
 "nbformat": 4,
 "nbformat_minor": 1
}
